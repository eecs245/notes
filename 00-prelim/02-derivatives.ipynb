{
 "cells": [
  {
   "cell_type": "markdown",
   "metadata": {},
   "source": [
    "# Derivatives\n",
    "\n",
    "In Part 1, we'll rely on a few key ideas from a first course in calculus (e.g. Math 115). Before proceeding, make sure you've read the previous note on [Summation Notation](../00-prelim/01-summation.ipynb), as we'll use some of the notation from there."
   ]
  },
  {
   "cell_type": "markdown",
   "id": "026dca24",
   "metadata": {},
   "source": [
    "## Introduction\n",
    "\n",
    "Intuitive definition of a derivative\n",
    "\n",
    "Limit definition of a derivative\n",
    "\n",
    "Rate of change, linear approximation, slope of tangent line\n",
    "\n",
    "Put interactive example\n",
    "\n",
    "Local minimum at w = 0.8\n",
    "\n",
    "Global minimum at w = -0.7\n",
    "\n",
    "Local maximum at w = 0.2\n",
    "\n",
    "^ definitions for all of those things\n",
    "\n",
    "TODO put example of single variable function with local and global minima, talk about how we find them.\n",
    "\n",
    "Examples of functions without local minima, examples with global minimum and maximum (not defined on all of $\\mathbb{R}$), etc."
   ]
  },
  {
   "cell_type": "markdown",
   "id": "4d8ab57a",
   "metadata": {},
   "source": [
    "## Common Derivative Rules\n",
    "\n",
    "- Addition rule\n",
    "- Power rule\n",
    "- Chain rule\n",
    "- Product rule\n",
    "\n",
    "\n",
    "## Derivative of a Summation\n",
    "\n",
    "Recall, the addition rule states that the derivative of a sum is the sum of the derivatives. We can think of this in terms of summations todo.\n",
    "\n",
    "\n",
    "$$F(x) = \\sum_{i=1}^n f_i(x)$$\n",
    "\n",
    "$$\\frac{d}{dx} F(x) = \\sum_{i=1}^n \\frac{d}{dx} f_i(x)$$\n",
    "\n",
    "Example: \n",
    "\n",
    "$$\\sum_{i=1}^n (x_i - h)^2$$\n",
    "\n",
    "$$derivative -> \\sum_{i=1}^n 2(x_i - h)(-1)$$"
   ]
  },
  {
   "cell_type": "code",
   "execution_count": null,
   "id": "a8d05b95",
   "metadata": {
    "vscode": {
     "languageId": "plaintext"
    }
   },
   "outputs": [],
   "source": []
  },
  {
   "cell_type": "code",
   "execution_count": null,
   "id": "52589bdc",
   "metadata": {
    "vscode": {
     "languageId": "plaintext"
    }
   },
   "outputs": [],
   "source": []
  },
  {
   "cell_type": "markdown",
   "id": "d25a1fab",
   "metadata": {},
   "source": [
    "Derivatives of sums.\n",
    "\n",
    "test"
   ]
  },
  {
   "cell_type": "markdown",
   "id": "ebb729fd",
   "metadata": {},
   "source": []
  }
 ],
 "metadata": {
  "language_info": {
   "name": "python"
  }
 },
 "nbformat": 4,
 "nbformat_minor": 5
}
