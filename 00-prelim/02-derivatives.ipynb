{
 "cells": [
  {
   "cell_type": "markdown",
   "metadata": {},
   "source": [
    "# Chapter 0.2.Derivatives\n",
    "\n",
    "In Part 1, we'll rely on a few key ideas from a first course in calculus (e.g. Math 115). Before proceeding, make sure you've read the previous note on [Summation Notation](../00-prelim/01-summation.ipynb), as we'll use some of the notation from there."
   ]
  },
  {
   "cell_type": "markdown",
   "id": "24e90d5b",
   "metadata": {},
   "source": [
    "## Introduction\n",
    "An intuitive definition of a derivative is a function's rate of change. For example, the derivative of a linear equation is the slope; the rate of change is constant across all values of $x$. However, nonlinear functions have derivatives which can vary with each value of $x$ - in other words, a function. We can use lines to help us find the rates of change, specifically tangent lines.\n",
    "\n",
    "Recall that a tangent line is a line which touches a point on a graph and is parallel to the slope at that point. The fact that it's parallel is especially important, because finding the slope of the tangent line at $x$ also gives us the rate of change at $x$! "
   ]
  },
  {
   "cell_type": "code",
   "execution_count": null,
   "id": "0fa8c785",
   "metadata": {},
   "outputs": [],
   "source": [
    "## TODO: interactive plot here with some graph, \n",
    "## and a slider for x which controls which tangent line to show\n",
    "\n"
   ]
  },
  {
   "cell_type": "markdown",
   "id": "91fd4de3",
   "metadata": {},
   "source": [
    "We can find the slope of the tangent line at a point using limits. Recall the definition of the rate of change between two points $(x_1, y_1)$ and $(x_2, y_2)$: $$\\frac{y_2 - y_1}{x_2 - x_1}$$\n",
    "\n",
    "Let's say we're trying to find the slope of the tangent line at $x=a$. We want to find the rate of change between a point $(a, f(a))$ and some other point $(b, f(b))$, where $b-a$ is as close to $0$ as possible. This is where the limit comes in handy.\n",
    "$$\\lim_{b \\to a}\\frac{f(b)-f(a)}{b-a}$$\n",
    "\n",
    "Using the limit, we can find the value that the rate of change approaches when $a$ and $b$ are as close as possible, giving us the slope of the tangent line. We can use this limit more generally as the formal definition of the derivative, commonly known as $f'(x)$:\n",
    "\n",
    "$$f'(x)=\\lim_{h \\to 0}\\frac{f(x+h)-f(x)}{h}$$\n",
    "\n",
    "While we won't use the formal definition much in this class, it's good to understand where it comes from and why it works."
   ]
  },
  {
   "cell_type": "markdown",
   "id": "9d98e2f9",
   "metadata": {},
   "source": [
    "# Critical Points\n",
    "When the derivative $f'(x)$ is a function, we can solve for values of $x$ where $f'(x)=0$. The solutions to the derivative are called critical points, and they can give us incredibly useful information about the original function $f(x)$. Here's a simple example:\n",
    "\n",
    "(TODO: plot with 2 functions: a parabola and its derivative. can toggle between which graphs to show)\n",
    "(tentative idea: color code each half of parabola by increasing/decreasing, do the same to \n",
    "derivative where f'(x)>0/f'(x)<0 main concern with this is it might be too visually noisy. alternative idea is to have x=a as a toggle)\n",
    "\n",
    "Recall that the derivative $f'(x)$ of $f(x)$ is a function which returns the rate of change of $f(x)$ at any $x$. So at any point where $f'(x)=0$, $f(x)$ is not increasing or decreasing. In the plot above, we can see that $f'(a)=0$ and $f(a)$ is at the peak of the parabola; in other words, $f(a)$ is the *maximum* value of the function $f(x)$. Observing the graph of $f'(x)$ tells us why this is the case. $f'(x)>0$ for all values $x<a$, which means that $f(x)$ is *increasing* when $x<a$. A similar idea applies to values on the other half of the parabola, where $f(x)$ is decreasing because $f'(x)<0$ for all values $x>a$. \n",
    "\n",
    "There are two different kinds of critical points: global and local, which are defined below:\n",
    "()\n",
    "\n",
    "Going back to the graph above, $f(x)$ has a global maximum of $f(a)$. (Transition into function with no global extrema, only locals)\n",
    "\n",
    "(TODO: plot with a cubic function and its derivative)\n",
    "\n",
    "Local minimum at w = 0.8\n",
    "\n",
    "Global minimum at w = -0.7\n",
    "\n",
    "Local maximum at w = 0.2\n",
    "\n",
    "^ definitions for all of those things\n",
    "\n",
    "TODO put example of single variable function with local and global minima, talk about how we find them.\n",
    "\n",
    "Examples of functions without local minima, examples with global minimum and maximum (not defined on all of $\\mathbb{R}$), etc."
   ]
  },
  {
   "cell_type": "markdown",
   "id": "4d8ab57a",
   "metadata": {},
   "source": [
    "## Common Derivative Rules\n",
    "\n",
    "- Addition rule\n",
    "- Power rule\n",
    "- Chain rule\n",
    "- Product rule\n",
    "\n",
    "\n",
    "## Derivative of a Summation\n",
    "\n",
    "Recall, the addition rule states that the derivative of a sum is the sum of the derivatives. We can think of this in terms of summations todo.\n",
    "\n",
    "\n",
    "$$F(x) = \\sum_{i=1}^n f_i(x)$$\n",
    "\n",
    "$$\\frac{d}{dx} F(x) = \\sum_{i=1}^n \\frac{d}{dx} f_i(x)$$\n",
    "\n",
    "Example: \n",
    "\n",
    "$$\\sum_{i=1}^n (x_i - h)^2$$\n",
    "\n",
    "$$derivative -> \\sum_{i=1}^n 2(x_i - h)(-1)$$"
   ]
  },
  {
   "cell_type": "code",
   "execution_count": null,
   "id": "a8d05b95",
   "metadata": {},
   "outputs": [],
   "source": []
  },
  {
   "cell_type": "code",
   "execution_count": null,
   "id": "52589bdc",
   "metadata": {},
   "outputs": [],
   "source": []
  },
  {
   "cell_type": "markdown",
   "id": "d25a1fab",
   "metadata": {},
   "source": [
    "Derivatives of sums.\n",
    "\n",
    "test"
   ]
  },
  {
   "cell_type": "markdown",
   "id": "ebb729fd",
   "metadata": {},
   "source": []
  }
 ],
 "metadata": {
  "kernelspec": {
   "display_name": "Python 3 (ipykernel)",
   "language": "python",
   "name": "python3"
  },
  "language_info": {
   "codemirror_mode": {
    "name": "ipython",
    "version": 3
   },
   "file_extension": ".py",
   "mimetype": "text/x-python",
   "name": "python",
   "nbconvert_exporter": "python",
   "pygments_lexer": "ipython3",
   "version": "3.10.14"
  }
 },
 "nbformat": 4,
 "nbformat_minor": 5
}
