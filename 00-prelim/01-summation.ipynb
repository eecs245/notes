{
 "cells": [
  {
   "cell_type": "markdown",
   "metadata": {},
   "source": [
    "---\n",
    "numbering: false\n",
    "---\n",
    "\n",
    "# Summation Notation and the Mean\n",
    "\n",
    "Sums and averages play an important role in machine learning. In [Part 1](../01-supervised-learning/01-intro.ipynb) of the course, we'll learn to take the average of an important measurement (called a \"loss function\") for every value in our dataset. \n",
    "\n",
    "Here, we'll review the most relevant properties of summation notation, and use the arithmetic mean as a case study of sorts. In the next note, on [Calculus](../00-prelim/02-calculus.ipynb), we'll revisit summation notation in the context of derivatives.\n",
    "\n",
    "## Introduction\n",
    "\n",
    ":::{note} Definition: Summation Notation\n",
    "\n",
    "The $\\sum$ symbol, read “sigma”, is used to indicate a sum of a sequence. In general, if $a$ and $b$ are integers, and $x_1, x_2, \\ldots$ is some collection of numbers, then:\n",
    "\n",
    "$$\\sum_{i = a}^b x_i = x_a + x_{a+1} + x_{a+2} + … + x_{b-1} + x_b$$\n",
    "\n",
    "Above, $i$ is the _index of summation_.\n",
    ":::\n",
    "\n",
    "For example, if we take $x_i = i^2$, then $\\displaystyle \\sum_{i = 1}^6 i^2$ represents the sum of the squares of all integers from 1 to 6:\n",
    "\n",
    "$$\\sum_{i = 1}^6 i^2 = 1^2 + 2^2 + 3^2 + 4^2 + 5^2 + 6^2 = 91$$\n",
    "\n",
    "Notice that both the starting and ending indices ($1$ and $6$, respectively) are included in the sum.\n",
    "\n",
    "Often, we'll take the sum of the first $n$ terms of a sequence. The sum of the squares of the first $n$ positive integers is:\n",
    "\n",
    "$$\\sum_{i = 1}^n i^2 = 1^2 + 2^2 + ... + (n-1)^2 + n^2$$\n",
    "\n",
    "The example above illustrates **why** we use summation notation – it allows us to express the sum of a sequence in a compact way, as it prevents us from having to write out each term individually. (In this most recent example, we don't know the actual value of $n$, we wrote out just the first few and last few terms to unambiguously define the pattern, and then used $...$ to indicate that the pattern continues. In practice, if the pattern is clear, it's more common to just write the first two and last one term, e.g. $1^2 + 2^2 + ... + n^2$.)\n",
    "\n",
    "Note that the index of summation can be any variable name ($i$ is just a typical choice). That is, $\\displaystyle \\sum_{j = 1}^n j^2$, $\\displaystyle \\sum_{i = 1}^n i^2$, and $\\displaystyle \\sum_{\\text{zebra} = 1}^n \\text{zebra}^2$ all represent the same sum.\n",
    "\n",
    "Summation notation can be thought of in terms of a `for`-loop. In Python, to compute the sum $\\displaystyle \\sum_{i = a}^b i^2$, we could write:\n",
    "\n",
    "```python\n",
    "total = 0\n",
    "for i in range(a, b + 1):\n",
    "\ttotal = total + i ** 2\n",
    "```\n",
    "\n",
    "As we mentioned above, the ending index is _inclusive_ in summation notation. This is in contrast to Python, where the ending index is _exclusive_, which is why we provided `b + 1` as the second argument to the `range` function instead of `b`."
   ]
  },
  {
   "cell_type": "markdown",
   "metadata": {},
   "source": [
    "## Properties\n",
    "\n",
    "As I mentioned at the start of this section, we'll work with sums of data points quite frequently in this class. We'll often set up a problem by saying we have a sequence of $n$ scalar[^1] values, represented by $x_1, x_2, \\ldots, x_n$. For instance, perhaps there are $n$ students in this course, and $x_i$ represents the height of student $i$.\n",
    "\n",
    "[^1]: \"Scalar\" just means \"individual number\", as opposed to a vector or matrix which can contain multiple numbers, as we'll see later in the course.\n",
    "\n",
    "The **mean**, or **average**, of all $n$ values is given the symbol $\\bar{x}$ (pronounced \"x-bar\") and is defined as follows:\n",
    "\n",
    "$$\\bar{x} = \\frac{x_1 + x_2 + \\ldots + x_n}{n} = \\frac{1}{n} \\sum_{i = 1}^n x_i$$\n",
    "\n",
    "Using this theme, let's look at some of the properties of summation notation."
   ]
  },
  {
   "cell_type": "markdown",
   "id": "33c1c5fc",
   "metadata": {},
   "source": [
    "### Linearity of Constants\n",
    "\n",
    "$$\\boxed{\\sum_{i = a}^b c x_i = c \\sum_{i = a}^b x_i}$$"
   ]
  },
  {
   "cell_type": "markdown",
   "id": "083cb29a",
   "metadata": {},
   "source": [
    "As an example, consider that: $$\\sum_{i = 1}^3 5i = 5 + 10 + 15 = 30$$ is the same as: \n",
    "\n",
    "$$5 \\sum_{i = 1}^3 i = 5 \\cdot (1 + 2 + 3) = 5 \\cdot 6 = 30$$\n",
    "\n",
    ":::{tip} Proof (click me!)\n",
    ":class: dropdown\n",
    "\n",
    "Sometimes, we'll include added details and proofs using dropdown menus like these. To get the most out of the course, you should try to understand most of these proofs.\n",
    "\n",
    "$$\\begin{aligned} \\sum_{i = m}^n ca_i &= ca_m + ca_{m + 1} + ca_{m + 2} + … + ca_n \\\\ &= c(a_m + a_{m + 1} + a_{m + 2} + … + a_n) \\\\ &= c \\sum_{i = m}^n a_i \\end{aligned}$$\n",
    "\n",
    ":::\n",
    "\n",
    "A proof of this follows:\n",
    "\n",
    "\n",
    "\n",
    "A corollary of this property is the following fact:\n",
    "\n",
    "$\\sum_{i = 1}^n c = cn$\n",
    "\n",
    "where $c$ is a constant that is independent of $n$. In fact, $c$ could also be replaced with some variable $x$; as long the quantity being summed is independent of the index of summation, this fact holds true.\n",
    "\n",
    "\n",
    "Property 2: Separability of Two Sums\n",
    "$\\boxed{\\sum_{i = m}^n (a_i + b_i) = \\sum_{i = m}^n a_i + \\sum_{i = m}^n b_i}$\n",
    "\n",
    "Again, a proof:\n",
    "\n",
    "$\\begin{aligned} \\sum_{i = m}^n (a_i + b_i) &= (a_m + b_m) + (a_{m + 1} + b_{m + 1}) + (a_{m + 2} + b_{m + 2}) + … + (a_n + b_n) \\\\ &= (a_m + a_{m + 1} + a_{m + 2} + … + a_n) + (b_m + b_{m + 1} + b_{m + 2} + … + b_n) \\\\ &= \\sum_{i = m}^n a_i + \\sum_{i = m}^n b_i \\end{aligned}$\n",
    "\n",
    "\n",
    "Another useful property of sums (that isn’t enough of a “property” to warrant giving it its own number) is the fact that we can separate a sum into multiple sums:\n",
    "\n",
    "$\\begin{aligned} \\sum_{i = 1}^n 2^i &= \\sum_{i = 1}^{n - 1} 2^i + 2^n \\\\ &= \\sum_{i = 1}^{n-2} 2^i + \\sum_{i = n-2}^n 2^i \\\\ &= \\sum_{i = 1}^m 2^i + \\sum_{i = m}^n 2^i \\end{aligned}$"
   ]
  },
  {
   "cell_type": "markdown",
   "id": "deac0469",
   "metadata": {
    "vscode": {
     "languageId": "plaintext"
    }
   },
   "source": [
    ":::{warning}\n",
    "Summation notation **does not distribute over division**. That is,\n",
    "\n",
    "$$\\sum_{i = 1}^n \\frac{x_i}{y_i} \\neq \\frac{\\sum_{i = 1}^n x_i}{\\sum_{i = 1}^n y_i}$$\n",
    ":::"
   ]
  },
  {
   "cell_type": "code",
   "execution_count": null,
   "id": "c7d15a18",
   "metadata": {
    "vscode": {
     "languageId": "plaintext"
    }
   },
   "outputs": [],
   "source": []
  },
  {
   "cell_type": "markdown",
   "metadata": {},
   "source": [
    "- Pulling a constant\n",
    "- Separating sums\n",
    "- Re-indexing\n",
    "- Variable scope\n",
    "- Infinite series\n",
    "- Telescoping sums as an example\n",
    "\n",
    "Something about:\n",
    "$$\\sum_{k = 0}^n {n \\choose k} = 2^n$$\n",
    "\n",
    "Provide lots of exercises."
   ]
  },
  {
   "cell_type": "markdown",
   "id": "0c215cc2",
   "metadata": {},
   "source": [
    "When first learning how to manipulate sums, students often take the following equalities to be true. However, they are not:\n",
    "\n",
    "$\\sum_{i = m}^n a_i b_i \\neq \\left( \\sum_{i = m}^n a_i \\right) \\left( \\sum_{i = m}^n b_i \\right)$\n",
    "\n",
    "$\\sum_{i = m}^n \\frac{a_i}{b_i} \\neq \\frac{\\sum_{i = m}^n a_i}{\\sum_{i = m}^n b_i}$\n",
    "\n",
    "For example, consider $a_1 = 1, a_2 = 2, b_1 = 1, b_2 = 2$.\n",
    "\n",
    "(Statement 1) LHS: $1 \\cdot 1 + 2 \\cdot 2 = 5$, RHS: $(1 + 2) (1 + 2) = 9$, but $5 \\neq 9$\n",
    "(Statement 2) LHS: $\\frac{1}{1} + \\frac{2}{2} = 2$, RHS: $\\frac{1 + 2}{1 + 2} = 1$, but $2 \\neq 1$\n",
    "The above expressions are true if we replace the sums with products, though (as seen in the Properties of Pi Notation section).\n",
    "\n"
   ]
  },
  {
   "cell_type": "markdown",
   "metadata": {},
   "source": [
    "## Mean and Standard Deviation\n",
    "\n",
    "TODO put this after the properties come\n",
    "\n",
    "Suppose we have a sequence of $n$ numbers, $x_1$, $x_2$, ..., $x_n$. Using the example from the [Properties](#properties) section, let's say these represent the heights of all $n$ students in our class. The **mean**, or **average**, of all $n$ values is given the symbol $\\bar{x}$ (pronounced \"x-bar\") and is defined as follows:\n",
    "\n",
    "$$\\bar{x} = \\frac{x_1 + x_2 + \\ldots + x_n}{n} = \\frac{1}{n} \\sum_{i = 1}^n x_i$$\n",
    "\n",
    "Above, we've used our new notation for the sum of a sequence.\n",
    "\n",
    "You've likely seen this definition before. But, an often-forgotten property of the mean is that the **sum of the deviations from the mean is zero**. By that, I mean (no pun intended) that if you:\n",
    "1. compute the mean of a sequence of numbers,\n",
    "2. compute the _signed_ difference between each number and the mean, and then\n",
    "3. sum all of those differences, the result will be zero.\n",
    "\n",
    "Let's first see this in action, then show why it is true in general. Suppose there are only 4 students in the class, with heights 72, 63, 68, and 65 inches. The mean of these heights is:\n",
    "\n",
    "$$\\bar{x} = \\frac{72 + 63 + 68 + 65}{4} = 67$$\n",
    "\n",
    "The deviations from the mean are:\n",
    "\n",
    "$$\\begin{align*}\n",
    "72 - 67 &= 5 \\\\\n",
    "63 - 67 &= -4 \\\\\n",
    "68 - 67 &= 1 \\\\\n",
    "65 - 67 &= -2\n",
    "\\end{align*}$$\n",
    "\n",
    "The sum of the four deviations, then, is:\n",
    "\n",
    "$$-5 + (-4) + 1 + (-2) = 0$$\n",
    "\n",
    "So, the mean deviation from the mean is zero in this example. \n",
    "\n",
    "This is also true in general. Precisely, I'm claiming that if $x_1, x_2, ..., x_{n-1}, x_n$ are any $n$ numbers, and $\\bar{x}$ is their mean, then $\\sum_{i = 1}^n (x_i - \\bar{x}) = 0$.\n",
    "\n",
    "Let's prove it. I'll start with the left-hand side of the equation:\n",
    "\n",
    "$$\\sum_{i = 1}^n (x_i - \\bar{x})$$\n"
   ]
  },
  {
   "cell_type": "markdown",
   "id": "b5ebb9a5",
   "metadata": {},
   "source": []
  }
 ],
 "metadata": {
  "language_info": {
   "name": "python"
  }
 },
 "nbformat": 4,
 "nbformat_minor": 5
}
