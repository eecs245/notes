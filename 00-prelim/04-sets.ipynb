{
 "cells": [
  {
   "cell_type": "markdown",
   "metadata": {},
   "source": [
    "# Chapter 0.4. Sets\n",
    "\n",
    "In linear algebra, we often study properties of **sets** of vectors, so it'll help to be familiar with the basic ideas of set theory. If you've taken EECS 203, this should all be very familiar.\n",
    "\n",
    "https://notes.imt-decal.org/sets/sets-and-set-operations.html"
   ]
  },
  {
   "cell_type": "markdown",
   "id": "0457854e",
   "metadata": {},
   "source": [
    "\n",
    "At the end, list out the sets of numbers students should be familiar with: https://notes.imt-decal.org/sets/sets-of-numbers.html (no need to discuss cardinality)"
   ]
  }
 ],
 "metadata": {
  "language_info": {
   "name": "python"
  }
 },
 "nbformat": 4,
 "nbformat_minor": 5
}
