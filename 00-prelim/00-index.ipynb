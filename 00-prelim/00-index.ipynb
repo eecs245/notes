{
 "cells": [
  {
   "cell_type": "markdown",
   "metadata": {},
   "source": [
    "# Chapter 0: Math Review\n",
    "\n",
    "This course will rely on your understanding of some ideas from calculus and high school algebra. This section of the notes serves to review these ideas, and to introduce some notation that we'll use throughout the course.\n",
    "\n",
    "Regardless of your background, make sure to skim the content of this section, and attempt the exercises if these ideas are new to you. Core course content starts in [Chapter 1: Introduction to Supervised Learning](../01-supervised-learning/01-intro.ipynb)."
   ]
  }
 ],
 "metadata": {
  "language_info": {
   "name": "python"
  }
 },
 "nbformat": 4,
 "nbformat_minor": 5
}
