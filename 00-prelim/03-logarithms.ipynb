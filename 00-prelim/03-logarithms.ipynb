{
 "cells": [
  {
   "cell_type": "markdown",
   "metadata": {},
   "source": [
    "# Logarithms\n",
    "\n",
    "It may seem strange to have an entire page dedicated to logarithms, but the humble function $f(x) = \\log (x)$ plays a central role in the study of machine learning. Here, we'll review some of its properties, and look at how the previous two notes – on summation notation and calculus – play a role."
   ]
  },
  {
   "cell_type": "markdown",
   "id": "0457854e",
   "metadata": {},
   "source": [
    "Definition\n",
    "\n",
    "Talk about the base\n",
    "\n",
    "Properties\n",
    "\n",
    "Summation"
   ]
  }
 ],
 "metadata": {
  "language_info": {
   "name": "python"
  }
 },
 "nbformat": 4,
 "nbformat_minor": 5
}
