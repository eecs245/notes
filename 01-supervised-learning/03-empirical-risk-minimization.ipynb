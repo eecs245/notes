{
  "cells": [
    {
      "cell_type": "markdown",
      "metadata": {
        "vscode": {
          "languageId": "raw"
        }
      },
      "source": [
        "# 1.3. Empirical Risk Minimization\n",
        "\n",
        "<!-- ```{hint} Learning Objectives\n",
        "TODO\n",
        "``` -->\n",
        "\n",
        "Here, revisit the three-step modeling process from the previous section through the lens of absolute loss. Then talk about the minimizing outputs, i.e. $R_\\text{sq}(h^*)$.\n"
      ]
    }
  ],
  "metadata": {
    "language_info": {
      "name": "python"
    }
  },
  "nbformat": 4,
  "nbformat_minor": 2
}
