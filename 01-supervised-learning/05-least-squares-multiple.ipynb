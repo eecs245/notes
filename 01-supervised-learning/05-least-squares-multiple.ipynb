{
  "cells": [
    {
      "cell_type": "markdown",
      "metadata": {
        "vscode": {
          "languageId": "raw"
        }
      },
      "source": [
        "# 1.5. Least Squares\n",
        "\n",
        "Mention, by name, the idea of least squares curve fitting, e.g. the parabola example from Wikipedia. (Mostly naming this \"least squares\" so that it appears in the sidebar.)\n",
        "\n",
        "Motivate multiple linear regression and why vectors are actually needed. Relatively short section."
      ]
    }
  ],
  "metadata": {
    "language_info": {
      "name": "python"
    }
  },
  "nbformat": 4,
  "nbformat_minor": 2
}
