{
  "cells": [
    {
      "cell_type": "markdown",
      "metadata": {
        "vscode": {
          "languageId": "raw"
        }
      },
      "source": [
        "# 1.4. Simple Linear Regression\n",
        "\n",
        "Upgrade to simple linear regression.\n",
        "\n",
        "TODO need to show the loss surface in 3D and talk about partial derivatives.\n",
        "\n",
        "Here, add that cool animation of partial derivatives where they \"slice\" into the 3D surface.\n"
      ]
    }
  ],
  "metadata": {
    "language_info": {
      "name": "python"
    }
  },
  "nbformat": 4,
  "nbformat_minor": 2
}
