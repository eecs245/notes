{
  "cells": [
    {
      "cell_type": "markdown",
      "metadata": {
        "vscode": {
          "languageId": "raw"
        }
      },
      "source": [
        "# 1.2. Loss Functions and the Constant Model\n",
        "\n",
        "```{hint} Learning Objectives\n",
        "- Understand the idea of a model, loss function, and average loss.\n",
        "```\n",
        "\n",
        "The usual start from 398 Lecture 11.\n",
        "\n",
        "<!-- ## Introduction\n",
        "\n",
        "What is a machine? How does it learn?\n",
        "\n",
        "## Problem Setup\n",
        "\n",
        "Consider a dataset of $n$ _scalar_ values, $y_1, y_2, ..., y_n$. The **mean** of $y_1, y_2, ..., y_n$, denoted $\\bar{y}$, is given by:\n",
        "\n",
        "$$\n",
        "\\bar{y} = \\frac{1}{n} \\sum_{i=1}^n y_i\n",
        "$$\n",
        "\n",
        "```{sidebar}\n",
        "Check it out, we got a sidebar! Let's $f(x) = 5$.\n",
        "``` -->\n"
      ]
    }
  ],
  "metadata": {
    "language_info": {
      "name": "python"
    }
  },
  "nbformat": 4,
  "nbformat_minor": 2
}
