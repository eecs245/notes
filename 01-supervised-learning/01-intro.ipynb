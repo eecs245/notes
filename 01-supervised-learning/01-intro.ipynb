{
  "cells": [
    {
      "cell_type": "markdown",
      "metadata": {
        "vscode": {
          "languageId": "raw"
        }
      },
      "source": [
        "# 1.1. Introduction to Machine Learning\n",
        "\n",
        "What is machine learning? Supervised vs. unsupervised. Show the taxonomy.\n",
        "\n",
        "Perhaps talk briefly about the history of machine learning.\n",
        "\n",
        "When giving examples of supervised learning problems, talk a little bit about language models, like ChatGPT."
      ]
    }
  ],
  "metadata": {
    "language_info": {
      "name": "python"
    }
  },
  "nbformat": 4,
  "nbformat_minor": 2
}
