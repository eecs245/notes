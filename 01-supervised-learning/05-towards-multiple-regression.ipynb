{
  "cells": [
    {
      "cell_type": "markdown",
      "metadata": {
        "vscode": {
          "languageId": "raw"
        }
      },
      "source": [
        "# 1.5. Towards Multiple Linear Regression\n",
        "\n",
        "Motivate multiple linear regression and why vectors are actually needed. Relatively short section.\n"
      ]
    }
  ],
  "metadata": {
    "language_info": {
      "name": "python"
    }
  },
  "nbformat": 4,
  "nbformat_minor": 2
}
