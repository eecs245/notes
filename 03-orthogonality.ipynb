{
 "cells": [
  {
   "cell_type": "markdown",
   "metadata": {},
   "source": [
    "# Dot Product and Orthogonality"
   ]
  },
  {
   "cell_type": "markdown",
   "metadata": {},
   "source": [
    "## Introduction\n",
    "\n",
    "In the last note, we introduced two key operations that work on vectors:\n",
    "- vector addition.\n",
    "- scalar multiplication.\n",
    "\n",
    "We also introduced the notion of a vector norm, which is a measure of the \"length\" of a vector.\n",
    "\n",
    "Here, we'll introduce another key."
   ]
  },
  {
   "cell_type": "markdown",
   "metadata": {},
   "source": [
    "## The Dot Product\n",
    "\n",
    "Suppose $\\vec u, \\vec v \\in \\mathbb{R}^n$. The **dot product** of $\\vec u$ and $\\vec v$ is defined as follows:"
   ]
  },
  {
   "cell_type": "markdown",
   "metadata": {},
   "source": []
  }
 ],
 "metadata": {
  "language_info": {
   "name": "python"
  }
 },
 "nbformat": 4,
 "nbformat_minor": 2
}
