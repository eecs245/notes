{
 "cells": [
  {
   "cell_type": "markdown",
   "metadata": {},
   "source": [
    "# Eigenvalues and Eigenvectors\n",
    "\n",
    "```{hint} Learning Objectives\n",
    "\n",
    "TODO\n",
    "```"
   ]
  },
  {
   "cell_type": "markdown",
   "metadata": {},
   "source": [
    "## Websites and Networks\n",
    "\n",
    "As we did at the start of the course, we'll start with an example that is rooted in application, and introduce the necessary mathematical machinery to study it. At the start of the course, we studied the ever-present problem of building models that make meaningful predictions about the future – and rest assured, we will return to that problem shortly. For now, though, we'll start by studying the problem that led to the creation of Google, which you may have once heard of by the phrase \"the billion dollar eigenvalue.\""
   ]
  },
  {
   "cell_type": "code",
   "execution_count": null,
   "metadata": {
    "vscode": {
     "languageId": "plaintext"
    }
   },
   "outputs": [],
   "source": []
  },
  {
   "cell_type": "markdown",
   "metadata": {
    "vscode": {
     "languageId": "plaintext"
    }
   },
   "source": [
    "## The Punchline\n",
    "\n",
    "```{topic} Definition: Eigenvalues and Eigenvectors\n",
    "\n",
    "Suppose $A$ is an $n \\times n$ matrix. A **non-zero** vector $\\vec v \\in \\mathbb{R}^n$ is an **eigenvector** of $A$ if:\n",
    "\n",
    "$$A \\vec v = \\lambda \\vec v$$\n",
    "\n",
    "for some scalar $\\lambda \\in \\mathbb{R}$. The scalar $\\lambda$ is called the **eigenvalue** of $A$ corresponding to $\\vec v$.\n",
    "\n",
    "```\n",
    "\n",
    "On its own, this definition is a bit hard to parse. But, it really says something quite simple and profound:\n",
    "\n",
    "```{important}\n",
    "\n",
    "If $A$ is a matrix, and $\\vec v$ is an eigenvector of $A$, then $A \\vec v$ is a **vector that points in the same direction** as $\\vec v$!\n",
    "\n",
    "Let's put that another way. The function $f(\\vec v) = A \\vec v$ is a **linear transformation** that maps vectors in $\\mathbb{R}^n$ to vectors in $\\mathbb{R}^n$. Eigenvectors of $A$ are vectors whose directions are **unchanged** by the linear transformation $f$. The corresponding eigenvalues are the scalars by which the eigenvectors are scaled.\n",
    "\n",
    "\n",
    "```"
   ]
  },
  {
   "cell_type": "code",
   "execution_count": null,
   "metadata": {
    "vscode": {
     "languageId": "plaintext"
    }
   },
   "outputs": [],
   "source": []
  }
 ],
 "metadata": {
  "language_info": {
   "name": "python"
  }
 },
 "nbformat": 4,
 "nbformat_minor": 2
}
