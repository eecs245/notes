{
 "cells": [
  {
   "cell_type": "markdown",
   "metadata": {},
   "source": [
    "# 5.2. Eigendecomposition\n",
    "\n",
    "Recap of eigenvalues and eigenvectors.\n",
    "\n",
    "Writing $A = V \\Lambda V^{-1}$ is a way to decompose a matrix into a diagonal matrix of eigenvalues and a matrix of eigenvectors.\n",
    "\n",
    "Talk about the rank of a matrix and how that relates to its eigenvalues.\n",
    "\n",
    "Positive semidefinite matrices, and how they relate to the eigenvalues of a matrix. Re-introduce least squares from this perspective.\n",
    "\n",
    "Somewhere here, talk about these ideas: https://www.youtube.com/watch?v=ZTNniGvY5IQ"
   ]
  }
 ],
 "metadata": {
  "kernelspec": {
   "display_name": "pds",
   "language": "python",
   "name": "python3"
  },
  "language_info": {
   "codemirror_mode": {
    "name": "ipython",
    "version": 3
   },
   "file_extension": ".py",
   "mimetype": "text/x-python",
   "name": "python",
   "nbconvert_exporter": "python",
   "pygments_lexer": "ipython3",
   "version": "3.10.18"
  }
 },
 "nbformat": 4,
 "nbformat_minor": 4
}
