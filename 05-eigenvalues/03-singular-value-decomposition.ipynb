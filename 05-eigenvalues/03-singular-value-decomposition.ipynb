{
 "cells": [
  {
   "cell_type": "markdown",
   "metadata": {},
   "source": [
    "# 5.3. Singular Value Decomposition\n",
    "\n",
    "Remember, only square matrices have eigenvalues and eigenvectors.\n",
    "\n",
    "For non-square matrices, we can use the singular value decomposition, which has similar properties and will enable for some powerful data analysis.\n",
    "\n",
    "<!-- Talk about the SVD as a way to decompose a matrix into a diagonal matrix of singular values and a matrix of singular vectors.\n",
    "\n",
    "Talk about the implication of the rank of a matrix and how that relates to its singular values.\n",
    "\n",
    "Talk about the geometric interpretation of the singular values and singular vectors.\n",
    "\n",
    "Talk about the power method for finding singular values and singular vectors. -->"
   ]
  }
 ],
 "metadata": {
  "kernelspec": {
   "display_name": "pds",
   "language": "python",
   "name": "python3"
  },
  "language_info": {
   "codemirror_mode": {
    "name": "ipython",
    "version": 3
   },
   "file_extension": ".py",
   "mimetype": "text/x-python",
   "name": "python",
   "nbconvert_exporter": "python",
   "pygments_lexer": "ipython3",
   "version": "3.10.18"
  }
 },
 "nbformat": 4,
 "nbformat_minor": 4
}
