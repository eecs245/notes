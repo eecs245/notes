{
 "cells": [
  {
   "cell_type": "markdown",
   "metadata": {},
   "source": [
    "# 6.4. Maximum Likelihood Estimation\n",
    "\n",
    "Start with estimating the bias of a coin (i.e. estimating p in n samples of Bern(p)), and work up to more sophisticated examples, all in the context of discrete RVs. Relates back to calculus and optimization (which is why we’ve chosen MLE over other probability ideas). Maximizing likelihood vs. log-likelihood."
   ]
  }
 ],
 "metadata": {
  "kernelspec": {
   "display_name": "pds",
   "language": "python",
   "name": "python3"
  },
  "language_info": {
   "codemirror_mode": {
    "name": "ipython",
    "version": 3
   },
   "file_extension": ".py",
   "mimetype": "text/x-python",
   "name": "python",
   "nbconvert_exporter": "python",
   "pygments_lexer": "ipython3",
   "version": "3.10.18"
  }
 },
 "nbformat": 4,
 "nbformat_minor": 4
}
