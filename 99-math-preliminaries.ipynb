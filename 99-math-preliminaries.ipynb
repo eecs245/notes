{
 "cells": [
  {
   "cell_type": "markdown",
   "metadata": {},
   "source": [
    "# Mathematical Preliminaries"
   ]
  },
  {
   "cell_type": "markdown",
   "metadata": {},
   "source": [
    "This course will rely on your understanding of some ideas from calculus and high school algebra. This page serves to the review these ideas, and to introduce some notation that we'll use throughout the course."
   ]
  },
  {
   "cell_type": "markdown",
   "metadata": {},
   "source": [
    "## Summation Notation\n",
    "\n",
    "The $\\sum$ symbol, read “sigma”, is used to indicate a sum of some sequence. For example, $\\displaystyle \\sum_{i = 1}^n i^2$ represents the sum of the squares of all integers from 1 to $n$:\n",
    "\n",
    "$$\\sum_{i = 1}^6 i^2 = 1^2 + 2^2 + 3^2 + 4^2 + 5^2 + 6^2$$\n",
    "\n",
    "$i$, the index of summation, tells us where to start and end our sum. In general, we have:\n",
    "\n",
    "$$\\sum_{i = a}^b f(i) = f(a) + f(a+1) + f(a+2) + … + f(b-1) + f(b)$$\n",
    "\n",
    "This is similar to a Python for-loop:\n",
    "\n",
    "```python\n",
    "sum = 0\n",
    "for i in range(a, b+1):\n",
    "\tsum = sum + f(i)\n",
    "```\n",
    "\n",
    "In summation notation, the ending index is _inclusive_, unlike in Python."
   ]
  },
  {
   "cell_type": "markdown",
   "metadata": {},
   "source": []
  }
 ],
 "metadata": {
  "language_info": {
   "name": "python"
  }
 },
 "nbformat": 4,
 "nbformat_minor": 2
}
