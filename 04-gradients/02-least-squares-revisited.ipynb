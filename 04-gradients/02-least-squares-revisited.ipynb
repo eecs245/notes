{
 "cells": [
  {
   "cell_type": "markdown",
   "metadata": {},
   "source": [
    "# 4.2. Least Squares, Revisited\n",
    "\n",
    "Now that we know how to take the gradient of a function R^n -> R, let's minimize $$R_\\text{sq}(\\vec w) = \\frac{1}{n} \\sum_{i=1}^n (y_i - \\vec w^T \\vec x_i)^2$$ by taking the gradient and setting it to 0.\n",
    "\n",
    "This could have been part of the previous note, but it's important enough to have its own note."
   ]
  }
 ],
 "metadata": {
  "kernelspec": {
   "display_name": "pds",
   "language": "python",
   "name": "python3"
  },
  "language_info": {
   "codemirror_mode": {
    "name": "ipython",
    "version": 3
   },
   "file_extension": ".py",
   "mimetype": "text/x-python",
   "name": "python",
   "nbconvert_exporter": "python",
   "pygments_lexer": "ipython3",
   "version": "3.10.18"
  }
 },
 "nbformat": 4,
 "nbformat_minor": 4
}
