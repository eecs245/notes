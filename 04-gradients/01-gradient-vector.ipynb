{
 "cells": [
  {
   "cell_type": "markdown",
   "metadata": {},
   "source": [
    "# 4.1. The Gradient Vector\n",
    "\n",
    "Recap of partial derivatives. Give a visual sense of what the gradient vector is.\n",
    "\n",
    "Emphasize the importance of understanding the domain and range of a function, i.e.\n",
    "\n",
    "R^n - R, R - R, etc.\n",
    "\n",
    "Give examples of gradients for x^Tx, x^T Ax, etc."
   ]
  }
 ],
 "metadata": {
  "kernelspec": {
   "display_name": "pds",
   "language": "python",
   "name": "python3"
  },
  "language_info": {
   "codemirror_mode": {
    "name": "ipython",
    "version": 3
   },
   "file_extension": ".py",
   "mimetype": "text/x-python",
   "name": "python",
   "nbconvert_exporter": "python",
   "pygments_lexer": "ipython3",
   "version": "3.10.18"
  }
 },
 "nbformat": 4,
 "nbformat_minor": 4
}
