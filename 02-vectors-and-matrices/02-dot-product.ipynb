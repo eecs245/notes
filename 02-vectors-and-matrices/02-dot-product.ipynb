{
 "cells": [
  {
   "cell_type": "markdown",
   "metadata": {},
   "source": [
    "# 2.2. Dot Product and Orthogonality"
   ]
  },
  {
   "cell_type": "markdown",
   "metadata": {},
   "source": [
    "## Introduction\n",
    "\n",
    "In the last note, we introduced two key operations that work on vectors:\n",
    "- vector addition.\n",
    "- scalar multiplication.\n",
    "\n",
    "We also introduced the notion of a vector norm, which is a measure of the \"length\" of a vector.\n",
    "\n",
    "Here, we'll introduce another key."
   ]
  },
  {
   "cell_type": "markdown",
   "metadata": {},
   "source": [
    "## The Dot Product\n",
    "\n",
    "Suppose $\\vec u, \\vec v \\in \\mathbb{R}^n$. The **dot product** of $\\vec u$ and $\\vec v$ is defined as follows:"
   ]
  },
  {
   "cell_type": "markdown",
   "metadata": {},
   "source": [
    "## Direction\n",
    "\n",
    "Let's return to the vector $\\vec v = \\begin{bmatrix} 3 \\\\ 4 \\end{bmatrix}$. We know that $\\left\\| \\vec v \\right\\| = 5$. But in what direction does $\\vec v$ travel?\n",
    "\n",
    "TODO show $\\vec v$ once again.\n",
    "\n",
    "Directions are _relative_, and it's standard to describe directions in terms of the **angle** they make with the positive $x$-axis. Suppose the angle between $\\vec v$ and the positive $x$-axis is $\\theta$. Then, we can use trigonometry to find $\\theta$ in a few equivalent ways:\n",
    "\n",
    "- $5 \\cos \\theta = 3 \\implies \\cos \\theta = \\frac{3}{5} \\implies \\theta = \\arccos \\left( \\frac{3}{5} \\right) \\approx 0.9273$ radians = $53.13^\\circ$.\n",
    "- $5 \\sin \\theta = 4 \\implies \\sin \\theta = \\frac{4}{5} \\implies \\theta = \\arcsin \\left( \\frac{4}{5} \\right) \\approx 0.9273$ radians = $53.13^\\circ$.\n",
    "- $\\tan \\theta = \\frac{4}{3} \\implies \\theta = \\arctan \\left( \\frac{4}{3} \\right) \\approx 0.9273$ radians = $53.13^\\circ$.\n",
    "\n",
    "We can now fully describe $\\vec v$ in two ways:\n",
    "- It is the vector $\\vec v = \\begin{bmatrix} 3 \\\\ 4 \\end{bmatrix}$.\n",
    "- It is the vector in $\\mathbb{R}^2$ with length 5 and angle $53.13^\\circ$ with the positive $x$-axis.\n",
    "\n",
    "Both of these descriptions are equivalent and uniquely describe the same $\\vec v$.\n",
    "\n",
    "We'll have more to say about angles shortly, when we discuss the angle **between** two vectors, but we figured a review of the basics couldn't hurt."
   ]
  }
 ],
 "metadata": {
  "language_info": {
   "name": "python"
  }
 },
 "nbformat": 4,
 "nbformat_minor": 2
}
