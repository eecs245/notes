{
 "cells": [
  {
   "cell_type": "markdown",
   "metadata": {},
   "source": [
    "# 2.7. Vector Spaces"
   ]
  },
  {
   "cell_type": "markdown",
   "metadata": {},
   "source": [
    "Four fundamental subspaces of a matrix: column space, null space, row space, left null space.\n",
    "\n",
    "These are really just the column space of null space of both $A$ and $A^T$.\n",
    "\n",
    "Rank-nullity theorem, if not in the previous note.\n",
    "\n",
    "Subspaces, and how the span of a set of vectors in $\\mathbb{R}^n$ is a subspace of $\\mathbb{R}^n$.\n",
    "\n",
    "What is a basis; homework problem: finding an orthonormal basis for the column space of a matrix.\n",
    "\n",
    "Later: inner product space."
   ]
  }
 ],
 "metadata": {
  "language_info": {
   "name": "python"
  }
 },
 "nbformat": 4,
 "nbformat_minor": 2
}
