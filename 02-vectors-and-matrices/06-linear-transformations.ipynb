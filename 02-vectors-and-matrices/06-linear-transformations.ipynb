{
 "cells": [
  {
   "cell_type": "markdown",
   "metadata": {},
   "source": [
    "# 2.6. Linear Transformations"
   ]
  },
  {
   "cell_type": "markdown",
   "metadata": {},
   "source": [
    "More on matrix-vector multiplication as being an operator that sends $\\vec x$ to $A \\vec x$, and what various $A$ do to $\\vec x$.\n",
    "\n",
    "Other topics:\n",
    "- Inverse\n",
    "- Determinant"
   ]
  },
  {
   "cell_type": "markdown",
   "metadata": {},
   "source": []
  }
 ],
 "metadata": {
  "language_info": {
   "name": "python"
  }
 },
 "nbformat": 4,
 "nbformat_minor": 2
}
