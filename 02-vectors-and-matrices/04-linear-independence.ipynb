{
 "cells": [
  {
   "cell_type": "markdown",
   "metadata": {},
   "source": [
    "# 2.4. Linear Independence"
   ]
  },
  {
   "cell_type": "markdown",
   "metadata": {},
   "source": [
    "What is a linear combination? Give examples with one vector, multiple vectors. What do 2 vectors in R^3 span? What do 5 vectors in R^2 span? etc.\n",
    "\n",
    "Motivate by saying vectors contain information about individuals, or products, and we want to create formulas that combine them in some linear fashion.\n",
    "\n",
    "Talk about linear independence, and focus on counting the number of linearly independent vectors in a set.\n",
    "\n",
    "Good site to borrow problems from: https://mmids-textbook.github.io/chap02_ls/exercises/roch-mmids-ls-exercises.html"
   ]
  }
 ],
 "metadata": {
  "language_info": {
   "name": "python"
  }
 },
 "nbformat": 4,
 "nbformat_minor": 2
}
