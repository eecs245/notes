{
 "cells": [
  {
   "cell_type": "markdown",
   "metadata": {},
   "source": [
    "# 2.5. Matrices"
   ]
  },
  {
   "cell_type": "markdown",
   "metadata": {},
   "source": [
    "Shapes of matrices – draw a long, wide, square, etc.\n",
    "\n",
    "Matrix multiplication, pull from 398 note. Talk about matrix-vector multiplication as being a linear combination of the columns of the matrix, with the weights being the entries of the vector.\n",
    "\n",
    "Talk about the rank of a matrix being the number of linearly independent columns. CR factorization and how that relates to rank.\n",
    "\n",
    "Define the matrix transpose, and define another way for defining the dot product."
   ]
  },
  {
   "cell_type": "markdown",
   "metadata": {},
   "source": []
  }
 ],
 "metadata": {
  "language_info": {
   "name": "python"
  }
 },
 "nbformat": 4,
 "nbformat_minor": 2
}
