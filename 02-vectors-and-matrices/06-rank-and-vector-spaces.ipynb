{
 "cells": [
  {
   "cell_type": "markdown",
   "metadata": {},
   "source": [
    "# 2.6. Rank and Vector Spaces"
   ]
  },
  {
   "cell_type": "markdown",
   "metadata": {},
   "source": [
    "## Rank\n",
    "\n",
    "As we saw above, the result of a matrix-vector product is a new vector, which itself is a linear combination of the columns of the matrix.\n",
    "\n",
    "In Chapter 2.4, we spent a considerable amount of time discussing linear independence and the set of **all possible linear combinations** of a set of vectors. We'll now use this knowledge to define the **rank** of a matrix.\n",
    "\n",
    ":::{note} Definition: Rank\n",
    "\n",
    "The **rank** of a matrix $A$ is the number of linearly independent columns of $A$.\n",
    ":::\n",
    "\n",
    "Let's see an example. Consider the matrix $A$ defined below:\n",
    "\n",
    "$$A = \\begin{bmatrix} 3 & 1 & 4 \\\\ 2 & 1 & 9 \\\\ 0 & -1 & 0 \\\\ 2 & -2 & 0 \\end{bmatrix}$$\n",
    "\n",
    "Orthogonal vectors are the \"most\" linearly independent vectors we can get. So an orthogonal matrix has full column rank."
   ]
  },
  {
   "cell_type": "markdown",
   "metadata": {},
   "source": [
    "xx^T rank 1, in general uv^T is a rank 1 matrix\n",
    "\n",
    "rank of X vs rank of X^T vs rank of X^T X"
   ]
  },
  {
   "cell_type": "markdown",
   "metadata": {},
   "source": [
    "The CR decomposition"
   ]
  },
  {
   "cell_type": "markdown",
   "metadata": {},
   "source": [
    "Four fundamental subspaces of a matrix: column space, null space, row space, left null space.\n",
    "\n",
    "These are really just the column space of null space of both $A$ and $A^T$.\n",
    "\n",
    "Rank-nullity theorem, if not in the previous note.\n",
    "\n",
    "Subspaces, and how the span of a set of vectors in $\\mathbb{R}^n$ is a subspace of $\\mathbb{R}^n$.\n",
    "\n",
    "What is a basis; homework problem: finding an orthonormal basis for the column space of a matrix.\n",
    "\n",
    "Later: inner product space."
   ]
  }
 ],
 "metadata": {
  "language_info": {
   "name": "python"
  }
 },
 "nbformat": 4,
 "nbformat_minor": 2
}
