{
 "cells": [
  {
   "cell_type": "markdown",
   "metadata": {},
   "source": [
    "# 2.1. Vectors\n",
    "\n",
    "<!-- ```{hint} Learning Objectives\n",
    "- Understand the definition of a vector.\n",
    "- Understand the geometric interpretation of a vector.\n",
    "- Understand the definition of vector addition and scalar multiplication.\n",
    "- Understand the geometric interpretation of vector addition and scalar multiplication.\n",
    "- Understand the definition of the norm of a vector.\n",
    "- Understand the geometric interpretation of the norm of a vector.\n",
    "- Understand the definition of the angle between two vectors.\n",
    "``` -->\n",
    "\n",
    "## Introduction\n",
    "\n",
    "Vectors are the central object of study in linear algebra, and appear in many different contexts. Thanks to the last note, you have _some_ understanding as to why they might be relevant in our journey through machine learning – they are used to store data, and in solving systems of linear equations.\n",
    "\n",
    "We'll start with the most basic and practically relevant definition of a vector. We'll introduce more abstract definitions later, as they become relevant.\n",
    "\n",
    ":::{note} Definition: Vector\n",
    "A **vector** is an ordered list of numbers.\n",
    "\n",
    "In this class, we'll typically use lowercase letters to denote vectors, drawn with arrows above the letters. For example:\n",
    "\n",
    "$$\\vec v = \\begin{bmatrix} 4 \\\\ -3 \\\\ 15 \\end{bmatrix}$$\n",
    "\n",
    "By _ordered list_, we mean that the order of the numbers in the vector matters. \n",
    "- For example, the vector $\\vec v = \\begin{bmatrix} 4 \\\\ -3 \\\\ 15 \\end{bmatrix}$ is not the same as the vector $\\vec w = \\begin{bmatrix} 15 \\\\ -3 \\\\ 4 \\end{bmatrix}$, despite the fact that they have the same components.\n",
    "- $\\vec v$ is also different from the vector $\\vec u = \\begin{bmatrix} 4 \\\\ -3 \\\\ 15 \\\\ 1 \\end{bmatrix}$, despite the fact that their first three components are the same.\n",
    ":::\n",
    "\n",
    "In general, we're mostly concerned with vectors in $\\mathbb{R}^n$, which is the **set** of all vectors with $n$ **components** or **elements**, each of which is a real number. It's possible to consider vectors with complex components (the set of all vectors with complex components is denoted $\\mathbb{C}^n$), but we'll stick to real vectors for now.\n",
    "\n",
    "The vector $\\vec v$ defined in the box above is in $\\mathbb{R}^3$, which we can express as $\\vec v \\in \\mathbb{R}^3$.\n",
    "\n",
    "```{sidebar}\n",
    "The notation $\\vec v \\in \\mathbb{R}^n$ is read as \"v is an element of R n\".\n",
    "```\n",
    "\n",
    "A general vector in $\\mathbb{R}^n$ can be expressed by:\n",
    "\n",
    "$$\\vec v = \\begin{bmatrix} v_1 \\\\ v_2 \\\\ \\vdots \\\\ v_n \\end{bmatrix}$$\n",
    "\n",
    "Before we move forward, let's clarify the notation we're using for subscripts. In the definition of $\\vec v$ above, the components of the vector are denoted $v_1, v_2, \\ldots, v_n$. Each of these individual components is a **single** real number, not a vector. But in the near future, we may want to consider multiple vectors at once, and may use subscripts to refer to them as well:\n",
    "\n",
    "$$\\vec v_1 = \\begin{bmatrix} 4 \\\\ -3 \\\\ 15 \\end{bmatrix} \\quad \\text{and} \\quad \\vec v_2 = \\begin{bmatrix} 1 \\\\ 2 \\\\ 3 \\end{bmatrix}$$\n",
    "\n",
    "The meaning of the subscript depends on the context, so just be careful!\n",
    "\n",
    "That's all great. **But, what do these numbers mean?** Vectors encode remarkable amounts of information and beauty, and shouldn't be thought of as \"just\" a list of numbers."
   ]
  },
  {
   "cell_type": "markdown",
   "metadata": {},
   "source": [
    "It turns out that we have a solution for running code directly in this note, without you needing to open Vocareum. Check it out below:\n",
    "\n",
    "<iframe\n",
    "  src=\"https://jupyterlite.github.io/demo/repl/index.html?kernel=python&code=import numpy as np;v = np.array([5, 4, -1, 2]);v\"\n",
    "  width=\"100%\"\n",
    "  height=\"100%\"\n",
    "></iframe>"
   ]
  },
  {
   "cell_type": "markdown",
   "metadata": {},
   "source": [
    "## Norm (i.e. Length or Magnitude)\n",
    "\n",
    "In the context of physics, vectors are often described as creatures with \"a magnitude and a direction\". While this is not a physics class – this is EECS 245, after all! – this interpretation will be useful for us, too.\n",
    "\n",
    "To illustrate what we mean, let's consider a concrete vector in $\\mathbb{R}^2$, since it is easy to visualize vectors in 2 dimensions on a computer screen. Suppose $\\vec v = \\begin{bmatrix} 3 \\\\ 4 \\end{bmatrix}$. Then, **geometrically**, we can visualize $\\vec v$ as an arrow pointing from the origin $(0,0)$ to the point $(3,4)$ in the 2D Cartesian plane."
   ]
  },
  {
   "cell_type": "code",
   "execution_count": 4,
   "metadata": {
    "tags": [
     "remove-input"
    ]
   },
   "outputs": [
    {
     "data": {
      "application/vnd.plotly.v1+json": {
       "config": {
        "plotlyServerURL": "https://plot.ly"
       },
       "data": [
        {
         "line": {
          "color": "blue",
          "width": 3
         },
         "marker": {
          "size": [
           0,
           8
          ]
         },
         "mode": "lines+markers",
         "name": "Vector (3,4)",
         "type": "scatter",
         "x": [
          0,
          3
         ],
         "y": [
          0,
          4
         ]
        }
       ],
       "layout": {
        "annotations": [
         {
          "arrowcolor": "blue",
          "arrowhead": 2,
          "arrowsize": 1.5,
          "arrowwidth": 2,
          "ax": 2.7,
          "axref": "x",
          "ay": 3.76,
          "ayref": "y",
          "showarrow": true,
          "x": 3,
          "xref": "x",
          "y": 4,
          "yref": "y"
         },
         {
          "font": {
           "size": 14
          },
          "showarrow": false,
          "text": "(3, 4)",
          "x": 3,
          "xshift": 15,
          "y": 4,
          "yshift": 15
         },
         {
          "font": {
           "size": 14
          },
          "showarrow": false,
          "text": "(0, 0)",
          "x": 0,
          "xshift": -15,
          "y": 0,
          "yshift": -15
         }
        ],
        "height": 600,
        "showlegend": true,
        "template": {
         "data": {
          "bar": [
           {
            "error_x": {
             "color": "#2a3f5f"
            },
            "error_y": {
             "color": "#2a3f5f"
            },
            "marker": {
             "line": {
              "color": "#E5ECF6",
              "width": 0.5
             },
             "pattern": {
              "fillmode": "overlay",
              "size": 10,
              "solidity": 0.2
             }
            },
            "type": "bar"
           }
          ],
          "barpolar": [
           {
            "marker": {
             "line": {
              "color": "#E5ECF6",
              "width": 0.5
             },
             "pattern": {
              "fillmode": "overlay",
              "size": 10,
              "solidity": 0.2
             }
            },
            "type": "barpolar"
           }
          ],
          "carpet": [
           {
            "aaxis": {
             "endlinecolor": "#2a3f5f",
             "gridcolor": "white",
             "linecolor": "white",
             "minorgridcolor": "white",
             "startlinecolor": "#2a3f5f"
            },
            "baxis": {
             "endlinecolor": "#2a3f5f",
             "gridcolor": "white",
             "linecolor": "white",
             "minorgridcolor": "white",
             "startlinecolor": "#2a3f5f"
            },
            "type": "carpet"
           }
          ],
          "choropleth": [
           {
            "colorbar": {
             "outlinewidth": 0,
             "ticks": ""
            },
            "type": "choropleth"
           }
          ],
          "contour": [
           {
            "colorbar": {
             "outlinewidth": 0,
             "ticks": ""
            },
            "colorscale": [
             [
              0,
              "#0d0887"
             ],
             [
              0.1111111111111111,
              "#46039f"
             ],
             [
              0.2222222222222222,
              "#7201a8"
             ],
             [
              0.3333333333333333,
              "#9c179e"
             ],
             [
              0.4444444444444444,
              "#bd3786"
             ],
             [
              0.5555555555555556,
              "#d8576b"
             ],
             [
              0.6666666666666666,
              "#ed7953"
             ],
             [
              0.7777777777777778,
              "#fb9f3a"
             ],
             [
              0.8888888888888888,
              "#fdca26"
             ],
             [
              1,
              "#f0f921"
             ]
            ],
            "type": "contour"
           }
          ],
          "contourcarpet": [
           {
            "colorbar": {
             "outlinewidth": 0,
             "ticks": ""
            },
            "type": "contourcarpet"
           }
          ],
          "heatmap": [
           {
            "colorbar": {
             "outlinewidth": 0,
             "ticks": ""
            },
            "colorscale": [
             [
              0,
              "#0d0887"
             ],
             [
              0.1111111111111111,
              "#46039f"
             ],
             [
              0.2222222222222222,
              "#7201a8"
             ],
             [
              0.3333333333333333,
              "#9c179e"
             ],
             [
              0.4444444444444444,
              "#bd3786"
             ],
             [
              0.5555555555555556,
              "#d8576b"
             ],
             [
              0.6666666666666666,
              "#ed7953"
             ],
             [
              0.7777777777777778,
              "#fb9f3a"
             ],
             [
              0.8888888888888888,
              "#fdca26"
             ],
             [
              1,
              "#f0f921"
             ]
            ],
            "type": "heatmap"
           }
          ],
          "heatmapgl": [
           {
            "colorbar": {
             "outlinewidth": 0,
             "ticks": ""
            },
            "colorscale": [
             [
              0,
              "#0d0887"
             ],
             [
              0.1111111111111111,
              "#46039f"
             ],
             [
              0.2222222222222222,
              "#7201a8"
             ],
             [
              0.3333333333333333,
              "#9c179e"
             ],
             [
              0.4444444444444444,
              "#bd3786"
             ],
             [
              0.5555555555555556,
              "#d8576b"
             ],
             [
              0.6666666666666666,
              "#ed7953"
             ],
             [
              0.7777777777777778,
              "#fb9f3a"
             ],
             [
              0.8888888888888888,
              "#fdca26"
             ],
             [
              1,
              "#f0f921"
             ]
            ],
            "type": "heatmapgl"
           }
          ],
          "histogram": [
           {
            "marker": {
             "pattern": {
              "fillmode": "overlay",
              "size": 10,
              "solidity": 0.2
             }
            },
            "type": "histogram"
           }
          ],
          "histogram2d": [
           {
            "colorbar": {
             "outlinewidth": 0,
             "ticks": ""
            },
            "colorscale": [
             [
              0,
              "#0d0887"
             ],
             [
              0.1111111111111111,
              "#46039f"
             ],
             [
              0.2222222222222222,
              "#7201a8"
             ],
             [
              0.3333333333333333,
              "#9c179e"
             ],
             [
              0.4444444444444444,
              "#bd3786"
             ],
             [
              0.5555555555555556,
              "#d8576b"
             ],
             [
              0.6666666666666666,
              "#ed7953"
             ],
             [
              0.7777777777777778,
              "#fb9f3a"
             ],
             [
              0.8888888888888888,
              "#fdca26"
             ],
             [
              1,
              "#f0f921"
             ]
            ],
            "type": "histogram2d"
           }
          ],
          "histogram2dcontour": [
           {
            "colorbar": {
             "outlinewidth": 0,
             "ticks": ""
            },
            "colorscale": [
             [
              0,
              "#0d0887"
             ],
             [
              0.1111111111111111,
              "#46039f"
             ],
             [
              0.2222222222222222,
              "#7201a8"
             ],
             [
              0.3333333333333333,
              "#9c179e"
             ],
             [
              0.4444444444444444,
              "#bd3786"
             ],
             [
              0.5555555555555556,
              "#d8576b"
             ],
             [
              0.6666666666666666,
              "#ed7953"
             ],
             [
              0.7777777777777778,
              "#fb9f3a"
             ],
             [
              0.8888888888888888,
              "#fdca26"
             ],
             [
              1,
              "#f0f921"
             ]
            ],
            "type": "histogram2dcontour"
           }
          ],
          "mesh3d": [
           {
            "colorbar": {
             "outlinewidth": 0,
             "ticks": ""
            },
            "type": "mesh3d"
           }
          ],
          "parcoords": [
           {
            "line": {
             "colorbar": {
              "outlinewidth": 0,
              "ticks": ""
             }
            },
            "type": "parcoords"
           }
          ],
          "pie": [
           {
            "automargin": true,
            "type": "pie"
           }
          ],
          "scatter": [
           {
            "fillpattern": {
             "fillmode": "overlay",
             "size": 10,
             "solidity": 0.2
            },
            "type": "scatter"
           }
          ],
          "scatter3d": [
           {
            "line": {
             "colorbar": {
              "outlinewidth": 0,
              "ticks": ""
             }
            },
            "marker": {
             "colorbar": {
              "outlinewidth": 0,
              "ticks": ""
             }
            },
            "type": "scatter3d"
           }
          ],
          "scattercarpet": [
           {
            "marker": {
             "colorbar": {
              "outlinewidth": 0,
              "ticks": ""
             }
            },
            "type": "scattercarpet"
           }
          ],
          "scattergeo": [
           {
            "marker": {
             "colorbar": {
              "outlinewidth": 0,
              "ticks": ""
             }
            },
            "type": "scattergeo"
           }
          ],
          "scattergl": [
           {
            "marker": {
             "colorbar": {
              "outlinewidth": 0,
              "ticks": ""
             }
            },
            "type": "scattergl"
           }
          ],
          "scattermapbox": [
           {
            "marker": {
             "colorbar": {
              "outlinewidth": 0,
              "ticks": ""
             }
            },
            "type": "scattermapbox"
           }
          ],
          "scatterpolar": [
           {
            "marker": {
             "colorbar": {
              "outlinewidth": 0,
              "ticks": ""
             }
            },
            "type": "scatterpolar"
           }
          ],
          "scatterpolargl": [
           {
            "marker": {
             "colorbar": {
              "outlinewidth": 0,
              "ticks": ""
             }
            },
            "type": "scatterpolargl"
           }
          ],
          "scatterternary": [
           {
            "marker": {
             "colorbar": {
              "outlinewidth": 0,
              "ticks": ""
             }
            },
            "type": "scatterternary"
           }
          ],
          "surface": [
           {
            "colorbar": {
             "outlinewidth": 0,
             "ticks": ""
            },
            "colorscale": [
             [
              0,
              "#0d0887"
             ],
             [
              0.1111111111111111,
              "#46039f"
             ],
             [
              0.2222222222222222,
              "#7201a8"
             ],
             [
              0.3333333333333333,
              "#9c179e"
             ],
             [
              0.4444444444444444,
              "#bd3786"
             ],
             [
              0.5555555555555556,
              "#d8576b"
             ],
             [
              0.6666666666666666,
              "#ed7953"
             ],
             [
              0.7777777777777778,
              "#fb9f3a"
             ],
             [
              0.8888888888888888,
              "#fdca26"
             ],
             [
              1,
              "#f0f921"
             ]
            ],
            "type": "surface"
           }
          ],
          "table": [
           {
            "cells": {
             "fill": {
              "color": "#EBF0F8"
             },
             "line": {
              "color": "white"
             }
            },
            "header": {
             "fill": {
              "color": "#C8D4E3"
             },
             "line": {
              "color": "white"
             }
            },
            "type": "table"
           }
          ]
         },
         "layout": {
          "annotationdefaults": {
           "arrowcolor": "#2a3f5f",
           "arrowhead": 0,
           "arrowwidth": 1
          },
          "autotypenumbers": "strict",
          "coloraxis": {
           "colorbar": {
            "outlinewidth": 0,
            "ticks": ""
           }
          },
          "colorscale": {
           "diverging": [
            [
             0,
             "#8e0152"
            ],
            [
             0.1,
             "#c51b7d"
            ],
            [
             0.2,
             "#de77ae"
            ],
            [
             0.3,
             "#f1b6da"
            ],
            [
             0.4,
             "#fde0ef"
            ],
            [
             0.5,
             "#f7f7f7"
            ],
            [
             0.6,
             "#e6f5d0"
            ],
            [
             0.7,
             "#b8e186"
            ],
            [
             0.8,
             "#7fbc41"
            ],
            [
             0.9,
             "#4d9221"
            ],
            [
             1,
             "#276419"
            ]
           ],
           "sequential": [
            [
             0,
             "#0d0887"
            ],
            [
             0.1111111111111111,
             "#46039f"
            ],
            [
             0.2222222222222222,
             "#7201a8"
            ],
            [
             0.3333333333333333,
             "#9c179e"
            ],
            [
             0.4444444444444444,
             "#bd3786"
            ],
            [
             0.5555555555555556,
             "#d8576b"
            ],
            [
             0.6666666666666666,
             "#ed7953"
            ],
            [
             0.7777777777777778,
             "#fb9f3a"
            ],
            [
             0.8888888888888888,
             "#fdca26"
            ],
            [
             1,
             "#f0f921"
            ]
           ],
           "sequentialminus": [
            [
             0,
             "#0d0887"
            ],
            [
             0.1111111111111111,
             "#46039f"
            ],
            [
             0.2222222222222222,
             "#7201a8"
            ],
            [
             0.3333333333333333,
             "#9c179e"
            ],
            [
             0.4444444444444444,
             "#bd3786"
            ],
            [
             0.5555555555555556,
             "#d8576b"
            ],
            [
             0.6666666666666666,
             "#ed7953"
            ],
            [
             0.7777777777777778,
             "#fb9f3a"
            ],
            [
             0.8888888888888888,
             "#fdca26"
            ],
            [
             1,
             "#f0f921"
            ]
           ]
          },
          "colorway": [
           "#636efa",
           "#EF553B",
           "#00cc96",
           "#ab63fa",
           "#FFA15A",
           "#19d3f3",
           "#FF6692",
           "#B6E880",
           "#FF97FF",
           "#FECB52"
          ],
          "font": {
           "color": "#2a3f5f"
          },
          "geo": {
           "bgcolor": "white",
           "lakecolor": "white",
           "landcolor": "#E5ECF6",
           "showlakes": true,
           "showland": true,
           "subunitcolor": "white"
          },
          "hoverlabel": {
           "align": "left"
          },
          "hovermode": "closest",
          "mapbox": {
           "style": "light"
          },
          "paper_bgcolor": "white",
          "plot_bgcolor": "#E5ECF6",
          "polar": {
           "angularaxis": {
            "gridcolor": "white",
            "linecolor": "white",
            "ticks": ""
           },
           "bgcolor": "#E5ECF6",
           "radialaxis": {
            "gridcolor": "white",
            "linecolor": "white",
            "ticks": ""
           }
          },
          "scene": {
           "xaxis": {
            "backgroundcolor": "#E5ECF6",
            "gridcolor": "white",
            "gridwidth": 2,
            "linecolor": "white",
            "showbackground": true,
            "ticks": "",
            "zerolinecolor": "white"
           },
           "yaxis": {
            "backgroundcolor": "#E5ECF6",
            "gridcolor": "white",
            "gridwidth": 2,
            "linecolor": "white",
            "showbackground": true,
            "ticks": "",
            "zerolinecolor": "white"
           },
           "zaxis": {
            "backgroundcolor": "#E5ECF6",
            "gridcolor": "white",
            "gridwidth": 2,
            "linecolor": "white",
            "showbackground": true,
            "ticks": "",
            "zerolinecolor": "white"
           }
          },
          "shapedefaults": {
           "line": {
            "color": "#2a3f5f"
           }
          },
          "ternary": {
           "aaxis": {
            "gridcolor": "white",
            "linecolor": "white",
            "ticks": ""
           },
           "baxis": {
            "gridcolor": "white",
            "linecolor": "white",
            "ticks": ""
           },
           "bgcolor": "#E5ECF6",
           "caxis": {
            "gridcolor": "white",
            "linecolor": "white",
            "ticks": ""
           }
          },
          "title": {
           "x": 0.05
          },
          "xaxis": {
           "automargin": true,
           "gridcolor": "white",
           "linecolor": "white",
           "ticks": "",
           "title": {
            "standoff": 15
           },
           "zerolinecolor": "white",
           "zerolinewidth": 2
          },
          "yaxis": {
           "automargin": true,
           "gridcolor": "white",
           "linecolor": "white",
           "ticks": "",
           "title": {
            "standoff": 15
           },
           "zerolinecolor": "white",
           "zerolinewidth": 2
          }
         }
        },
        "title": {
         "text": ""
        },
        "width": 600,
        "xaxis": {
         "range": [
          -0.5,
          4.5
         ],
         "showgrid": true,
         "title": {
          "text": "x"
         },
         "zeroline": true
        },
        "yaxis": {
         "range": [
          -0.5,
          4.5
         ],
         "showgrid": true,
         "title": {
          "text": "y"
         },
         "zeroline": true
        }
       }
      }
     },
     "metadata": {},
     "output_type": "display_data"
    }
   ],
   "source": [
    "import plotly.graph_objects as go\n",
    "import numpy as np\n",
    "\n",
    "# Define the vector (3,4)\n",
    "vector = np.array([3, 4])\n",
    "\n",
    "# Create figure\n",
    "fig = go.Figure()\n",
    "\n",
    "# Add the vector as a line from origin to (3,4)\n",
    "fig.add_trace(go.Scatter(\n",
    "    x=[0, vector[0]], \n",
    "    y=[0, vector[1]], \n",
    "    mode='lines+markers',\n",
    "    line=dict(color='blue', width=3),\n",
    "    marker=dict(size=[0, 8]),  # Small marker at origin, larger at endpoint\n",
    "    name='Vector (3,4)'\n",
    "))\n",
    "\n",
    "# Add an arrow annotation at the end of the vector\n",
    "fig.add_annotation(\n",
    "    x=vector[0], \n",
    "    y=vector[1],\n",
    "    ax=vector[0] - 0.3, \n",
    "    ay=vector[1] - 0.24,\n",
    "    xref='x', \n",
    "    yref='y',\n",
    "    axref='x', \n",
    "    ayref='y',\n",
    "    showarrow=True,\n",
    "    arrowhead=2,\n",
    "    arrowsize=1.5,\n",
    "    arrowwidth=2,\n",
    "    arrowcolor='blue'\n",
    ")\n",
    "\n",
    "# Add labels for the endpoint\n",
    "fig.add_annotation(\n",
    "    x=vector[0], \n",
    "    y=vector[1],\n",
    "    text='(3, 4)',\n",
    "    showarrow=False,\n",
    "    xshift=15,\n",
    "    yshift=15,\n",
    "    font=dict(size=14)\n",
    ")\n",
    "\n",
    "# Add origin label\n",
    "fig.add_annotation(\n",
    "    x=0, \n",
    "    y=0,\n",
    "    text='(0, 0)',\n",
    "    showarrow=False,\n",
    "    xshift=-15,\n",
    "    yshift=-15,\n",
    "    font=dict(size=14)\n",
    ")\n",
    "\n",
    "# Set layout\n",
    "fig.update_layout(\n",
    "    title='',\n",
    "    xaxis=dict(\n",
    "        range=[-0.5, 4.5], \n",
    "        showgrid=True, \n",
    "        zeroline=True,\n",
    "        title='x'\n",
    "    ),\n",
    "    yaxis=dict(\n",
    "        range=[-0.5, 4.5], \n",
    "        showgrid=True, \n",
    "        zeroline=True,\n",
    "        title='y'\n",
    "    ),\n",
    "    width=600,\n",
    "    height=600,\n",
    "    showlegend=True\n",
    ")\n",
    "\n",
    "fig.show()\n"
   ]
  },
  {
   "cell_type": "markdown",
   "metadata": {},
   "source": [
    "The vector $\\vec v = \\begin{bmatrix} 3 \\\\ 4 \\end{bmatrix}$ moves 3 units to the right and 4 units up, which we know by reading the components of the vector.\n",
    "\n",
    "It's worth noting that $\\vec v$ isn't \"fixed\" to start at the origin – vectors don't have positions. All three vectors in the figure below are the same vector, $\\vec v$.\n",
    "\n",
    "TODO add a visualization of the vector $\\vec v$ in 3 different positions.\n",
    "\n",
    "What's not immediately obvious is how \"long\" the vector is. To compute this vector's length, we should remember the Pythagorean theorem, which states that if we have a right triangle with legs of length $a$ and $b$, then the length of the hypotenuse is $\\sqrt{a^2 + b^2}$. In the example above, we have a right triangle with legs of length 3 and 4, so the length of the hypotenuse is $\\sqrt{3^2 + 4^2} = \\sqrt{25} = 5$, so the vector above has length 5.\n",
    "\n",
    "Great, so we know that $\\vec v$ travels 5 units. But in what direction does $\\vec v$ travel? We'll address this point in just a moment. But first, let's generalize the calculation we just performed.\n",
    "\n",
    ":::{note} Definition: Vector Norm\n",
    "The **norm** of a vector $\\vec v \\in \\mathbb{R}^n$ is defined as follows:\n",
    "\n",
    "$$\\left\\| \\vec v \\right\\| = \\sqrt{v_1^2 + v_2^2 + \\cdots + v_n^2}$$\n",
    "\n",
    "The norm of a vector is also called its **length** or **magnitude**. This particular formula for the norm is also called the **Euclidean norm** or $L_2$ norm, and is the most common and \"default\" norm used in linear algebra. In coming lectures, we'll see other norms, which describe different ways of measuring the \"length\" of a vector.\n",
    "\n",
    ":::\n",
    "\n",
    "What may not be immediately obvious is _why_ the Pythagorean theorem seems to extend to higher dimensions – the 2D case seems reasonable, but why is the length of the vector $\\vec u = \\begin{bmatrix} 2 \\\\ -3 \\\\ 6 \\end{bmatrix}$ in $\\mathbb{R}^3$ equal to $\\sqrt{2^2 + (-3)^2 + 6^2}$? The cop-out answer is that this is a definition, and I _could_ define the length of a vector to be whatever I'd like it to be, but we should verify that this definition makes intuitive sense and has reasonable properties. Let's consider that same vector $\\vec u$ for a moment.\n",
    "\n",
    "TODO: Draw a picture of the vector $\\vec u$ in 3D space.\n",
    "\n",
    "There are actually two right angle triangles in the picture above:\n",
    "- One triangle has legs of length 2 and 3, with a hypotenuse of $h$.\n",
    "- Another triangle has legs of length $h$ and 6, with a hypotenuse of $\\left\\| \\vec u \\right\\|$.\n",
    "\n",
    "To find $\\left\\| \\vec u \\right\\|$, we can use the Pythagorean theorem twice:\n",
    "\n",
    "$$h^2 = 2^2 + (-3)^2 = 4 + 9 = 13 \\implies h = \\sqrt{13}$$\n",
    "\n",
    "Then, we can use the Pythagorean theorem again to find $\\left\\| \\vec u \\right\\|$:\n",
    "\n",
    "$$\\left\\| \\vec u \\right\\| = \\sqrt{h^2 + 6^2} = \\sqrt{\\sqrt{2^2 + (-3)}^2 + 6^2} = \\sqrt{2^2 + (-3)^2 + 6^2} = \\sqrt{49} = 7$$\n",
    "\n",
    "So, to find $\\left\\| \\vec u \\right\\|$, we used the Pythagorean theorem twice, and ended up computing the square root of the sum of the squares of the components of the vector, which is what the definition above states. This argument naturally extends to higher dimensions.\n",
    "\n",
    "```{warning}\n",
    "Do not confuse the length of a vector with the number of components in a vector!\n",
    "\n",
    "If $\\vec v \\in \\mathbb{R}^n$, then the length of $\\vec v$ is $\\lVert \\vec v \\rVert$, while the number of components in $\\vec v$ is $n$.\n",
    "```\n",
    "\n",
    "Vector norms satisfy several interesting properties, which we will introduce later in this note once we have a bit more context.\n",
    "\n",
    "<br>\n",
    "\n",
    "## Direction\n",
    "\n",
    "Let's return to the vector $\\vec v = \\begin{bmatrix} 3 \\\\ 4 \\end{bmatrix}$. We know that $\\left\\| \\vec v \\right\\| = 5$. But in what direction does $\\vec v$ travel?\n",
    "\n",
    "TODO show $\\vec v$ once again.\n",
    "\n",
    "Directions are _relative_, and it's standard to describe directions in terms of the **angle** they make with the positive $x$-axis. Suppose the angle between $\\vec v$ and the positive $x$-axis is $\\theta$. Then, we can use trigonometry to find $\\theta$ in a few equivalent ways:\n",
    "\n",
    "- $5 \\cos \\theta = 3 \\implies \\cos \\theta = \\frac{3}{5} \\implies \\theta = \\arccos \\left( \\frac{3}{5} \\right) \\approx 0.9273$ radians = $53.13^\\circ$.\n",
    "- $5 \\sin \\theta = 4 \\implies \\sin \\theta = \\frac{4}{5} \\implies \\theta = \\arcsin \\left( \\frac{4}{5} \\right) \\approx 0.9273$ radians = $53.13^\\circ$.\n",
    "- $\\tan \\theta = \\frac{4}{3} \\implies \\theta = \\arctan \\left( \\frac{4}{3} \\right) \\approx 0.9273$ radians = $53.13^\\circ$.\n",
    "\n",
    "We can now fully describe $\\vec v$ in two ways:\n",
    "- It is the vector $\\vec v = \\begin{bmatrix} 3 \\\\ 4 \\end{bmatrix}$.\n",
    "- It is the vector in $\\mathbb{R}^2$ with length 5 and angle $53.13^\\circ$ with the positive $x$-axis.\n",
    "\n",
    "Both of these descriptions are equivalent and uniquely describe the same $\\vec v$.\n",
    "\n",
    "We'll have more to say about angles shortly, when we discuss the angle **between** two vectors, but we figured a review of the basics couldn't hurt."
   ]
  },
  {
   "cell_type": "markdown",
   "metadata": {},
   "source": [
    "## Vector Addition and Scalar Multiplication\n",
    "\n",
    "Out of the box, vectors support two basic operations: addition and scalar multiplication. These relatively simple operations will allow us to study sophisticated behavior.\n",
    "\n",
    ":::{note} Definition: Vector Addition\n",
    "Suppose $\\vec u$ and $\\vec v$ are both vectors with the same number of components, i.e. $\\vec u, \\vec v \\in \\mathbb{R}^n$.\n",
    "\n",
    "Then, the **sum** of $\\vec u$ and $\\vec v$ is defined as follows:\n",
    "\n",
    "$$\\vec u + \\vec v = \\begin{bmatrix} u_1 \\\\ u_2 \\\\ \\vdots \\\\ u_n \\end{bmatrix} + \\begin{bmatrix} v_1 \\\\ v_2 \\\\ \\vdots \\\\ v_n \\end{bmatrix} = \\begin{bmatrix} u_1 + v_1 \\\\ u_2 + v_2 \\\\ \\vdots \\\\ u_n + v_n \\end{bmatrix}$$\n",
    ":::\n",
    "\n",
    "This tells us that vector addition is performed **element-wise**. This is a term that you'll encounter quite a bit in the context of writing `numpy` code, as you'll see in lab.\n",
    "\n",
    "For example, if $\\vec u = \\begin{bmatrix} 1 \\\\ 2 \\\\ 3 \\end{bmatrix}$ and $\\vec v = \\begin{bmatrix} 4 \\\\ 5 \\\\ 6 \\end{bmatrix}$, then $\\vec u + \\vec v = \\begin{bmatrix} 5 \\\\ 7 \\\\ 9 \\end{bmatrix}$. \n",
    "\n",
    "If $\\vec w = \\begin{bmatrix} 1 \\\\ 2 \\end{bmatrix}$, then $\\vec u + \\vec w$ is undefined, since $\\vec u$ and $\\vec w$ have different numbers of components.\n",
    "\n",
    "<br>\n",
    "\n",
    ":::{note} Definition: Scalar Multiplication\n",
    "Suppose $\\vec v \\in \\mathbb{R}^n$. The **scalar multiple** of $\\vec v$ by a scalar $c \\in \\mathbb{R}$ is defined as follows:\n",
    "\n",
    "$$c \\vec v = c \\begin{bmatrix} v_1 \\\\ v_2 \\\\ \\vdots \\\\ v_n \\end{bmatrix} = \\begin{bmatrix} c v_1 \\\\ c v_2 \\\\ \\vdots \\\\ c v_n \\end{bmatrix}$$\n",
    ":::\n",
    "\n",
    "For example, if $\\vec v = \\begin{bmatrix} 1 \\\\ 2 \\\\ 3 \\end{bmatrix}$ and $c = 2$, then $2 \\vec v = \\begin{bmatrix} 2 \\\\ 4 \\\\ 6 \\end{bmatrix}$. Note that we've deliberately defined this operation as **scalar** multiplication, not just \"multiplication\" in general, as there's more nuance to the definition of multiplication in linear algebra.\n",
    "\n",
    "The norm of a vector satisfies the following properties, which you should verify for yourself:\n",
    "\n",
    "- $\\lVert \\vec v \\rVert \\geq 0$.\n",
    "- $\\lVert \\vec v \\rVert = 0$ if and only if $\\vec v = \\vec 0 = \\begin{bmatrix} 0 \\\\ 0 \\\\ \\vdots \\\\ 0 \\end{bmatrix}$.\n",
    "- $\\lVert c \\vec v \\rVert = |c| \\lVert \\vec v \\rVert$ for all $c \\in \\mathbb{R}$.\n",
    "- $\\lVert \\vec u + \\vec v \\rVert \\leq \\lVert \\vec u \\rVert + \\lVert \\vec v \\rVert$ (called the **triangle inequality**; the proof of this is non-trivial, and we'll see it later in a homework assignment).\n",
    "\n",
    "\n",
    "<!-- \n",
    ":::{note} Definition: Zero Vector\n",
    "The **zero vector** is the vector with all components equal to 0.\n",
    "\n",
    "$$\\vec 0 = \\begin{bmatrix} 0 \\\\ 0 \\\\ \\vdots \\\\ 0 \\end{bmatrix}$$\n",
    ":::\n",
    "\n",
    " -->\n",
    "\n",
    "## Visualizing Addition and Scalar Multiplication"
   ]
  },
  {
   "cell_type": "code",
   "execution_count": 5,
   "metadata": {
    "tags": [
     "remove-input"
    ]
   },
   "outputs": [
    {
     "data": {
      "application/vnd.plotly.v1+json": {
       "config": {
        "plotlyServerURL": "https://plot.ly"
       },
       "data": [
        {
         "line": {
          "color": "red",
          "width": 2
         },
         "mode": "lines+markers",
         "name": "Vector (1,2)",
         "type": "scatter",
         "x": [
          0,
          1
         ],
         "y": [
          0,
          2
         ]
        },
        {
         "line": {
          "color": "blue",
          "width": 2
         },
         "mode": "lines+markers",
         "name": "Vector (3,5)",
         "type": "scatter",
         "x": [
          0,
          3
         ],
         "y": [
          0,
          5
         ]
        }
       ],
       "layout": {
        "annotations": [
         {
          "font": {
           "size": 16
          },
          "showarrow": false,
          "text": "$\\theta$",
          "x": 0.5,
          "y": 1.5
         }
        ],
        "height": 600,
        "showlegend": true,
        "template": {
         "data": {
          "bar": [
           {
            "error_x": {
             "color": "#2a3f5f"
            },
            "error_y": {
             "color": "#2a3f5f"
            },
            "marker": {
             "line": {
              "color": "#E5ECF6",
              "width": 0.5
             },
             "pattern": {
              "fillmode": "overlay",
              "size": 10,
              "solidity": 0.2
             }
            },
            "type": "bar"
           }
          ],
          "barpolar": [
           {
            "marker": {
             "line": {
              "color": "#E5ECF6",
              "width": 0.5
             },
             "pattern": {
              "fillmode": "overlay",
              "size": 10,
              "solidity": 0.2
             }
            },
            "type": "barpolar"
           }
          ],
          "carpet": [
           {
            "aaxis": {
             "endlinecolor": "#2a3f5f",
             "gridcolor": "white",
             "linecolor": "white",
             "minorgridcolor": "white",
             "startlinecolor": "#2a3f5f"
            },
            "baxis": {
             "endlinecolor": "#2a3f5f",
             "gridcolor": "white",
             "linecolor": "white",
             "minorgridcolor": "white",
             "startlinecolor": "#2a3f5f"
            },
            "type": "carpet"
           }
          ],
          "choropleth": [
           {
            "colorbar": {
             "outlinewidth": 0,
             "ticks": ""
            },
            "type": "choropleth"
           }
          ],
          "contour": [
           {
            "colorbar": {
             "outlinewidth": 0,
             "ticks": ""
            },
            "colorscale": [
             [
              0,
              "#0d0887"
             ],
             [
              0.1111111111111111,
              "#46039f"
             ],
             [
              0.2222222222222222,
              "#7201a8"
             ],
             [
              0.3333333333333333,
              "#9c179e"
             ],
             [
              0.4444444444444444,
              "#bd3786"
             ],
             [
              0.5555555555555556,
              "#d8576b"
             ],
             [
              0.6666666666666666,
              "#ed7953"
             ],
             [
              0.7777777777777778,
              "#fb9f3a"
             ],
             [
              0.8888888888888888,
              "#fdca26"
             ],
             [
              1,
              "#f0f921"
             ]
            ],
            "type": "contour"
           }
          ],
          "contourcarpet": [
           {
            "colorbar": {
             "outlinewidth": 0,
             "ticks": ""
            },
            "type": "contourcarpet"
           }
          ],
          "heatmap": [
           {
            "colorbar": {
             "outlinewidth": 0,
             "ticks": ""
            },
            "colorscale": [
             [
              0,
              "#0d0887"
             ],
             [
              0.1111111111111111,
              "#46039f"
             ],
             [
              0.2222222222222222,
              "#7201a8"
             ],
             [
              0.3333333333333333,
              "#9c179e"
             ],
             [
              0.4444444444444444,
              "#bd3786"
             ],
             [
              0.5555555555555556,
              "#d8576b"
             ],
             [
              0.6666666666666666,
              "#ed7953"
             ],
             [
              0.7777777777777778,
              "#fb9f3a"
             ],
             [
              0.8888888888888888,
              "#fdca26"
             ],
             [
              1,
              "#f0f921"
             ]
            ],
            "type": "heatmap"
           }
          ],
          "heatmapgl": [
           {
            "colorbar": {
             "outlinewidth": 0,
             "ticks": ""
            },
            "colorscale": [
             [
              0,
              "#0d0887"
             ],
             [
              0.1111111111111111,
              "#46039f"
             ],
             [
              0.2222222222222222,
              "#7201a8"
             ],
             [
              0.3333333333333333,
              "#9c179e"
             ],
             [
              0.4444444444444444,
              "#bd3786"
             ],
             [
              0.5555555555555556,
              "#d8576b"
             ],
             [
              0.6666666666666666,
              "#ed7953"
             ],
             [
              0.7777777777777778,
              "#fb9f3a"
             ],
             [
              0.8888888888888888,
              "#fdca26"
             ],
             [
              1,
              "#f0f921"
             ]
            ],
            "type": "heatmapgl"
           }
          ],
          "histogram": [
           {
            "marker": {
             "pattern": {
              "fillmode": "overlay",
              "size": 10,
              "solidity": 0.2
             }
            },
            "type": "histogram"
           }
          ],
          "histogram2d": [
           {
            "colorbar": {
             "outlinewidth": 0,
             "ticks": ""
            },
            "colorscale": [
             [
              0,
              "#0d0887"
             ],
             [
              0.1111111111111111,
              "#46039f"
             ],
             [
              0.2222222222222222,
              "#7201a8"
             ],
             [
              0.3333333333333333,
              "#9c179e"
             ],
             [
              0.4444444444444444,
              "#bd3786"
             ],
             [
              0.5555555555555556,
              "#d8576b"
             ],
             [
              0.6666666666666666,
              "#ed7953"
             ],
             [
              0.7777777777777778,
              "#fb9f3a"
             ],
             [
              0.8888888888888888,
              "#fdca26"
             ],
             [
              1,
              "#f0f921"
             ]
            ],
            "type": "histogram2d"
           }
          ],
          "histogram2dcontour": [
           {
            "colorbar": {
             "outlinewidth": 0,
             "ticks": ""
            },
            "colorscale": [
             [
              0,
              "#0d0887"
             ],
             [
              0.1111111111111111,
              "#46039f"
             ],
             [
              0.2222222222222222,
              "#7201a8"
             ],
             [
              0.3333333333333333,
              "#9c179e"
             ],
             [
              0.4444444444444444,
              "#bd3786"
             ],
             [
              0.5555555555555556,
              "#d8576b"
             ],
             [
              0.6666666666666666,
              "#ed7953"
             ],
             [
              0.7777777777777778,
              "#fb9f3a"
             ],
             [
              0.8888888888888888,
              "#fdca26"
             ],
             [
              1,
              "#f0f921"
             ]
            ],
            "type": "histogram2dcontour"
           }
          ],
          "mesh3d": [
           {
            "colorbar": {
             "outlinewidth": 0,
             "ticks": ""
            },
            "type": "mesh3d"
           }
          ],
          "parcoords": [
           {
            "line": {
             "colorbar": {
              "outlinewidth": 0,
              "ticks": ""
             }
            },
            "type": "parcoords"
           }
          ],
          "pie": [
           {
            "automargin": true,
            "type": "pie"
           }
          ],
          "scatter": [
           {
            "fillpattern": {
             "fillmode": "overlay",
             "size": 10,
             "solidity": 0.2
            },
            "type": "scatter"
           }
          ],
          "scatter3d": [
           {
            "line": {
             "colorbar": {
              "outlinewidth": 0,
              "ticks": ""
             }
            },
            "marker": {
             "colorbar": {
              "outlinewidth": 0,
              "ticks": ""
             }
            },
            "type": "scatter3d"
           }
          ],
          "scattercarpet": [
           {
            "marker": {
             "colorbar": {
              "outlinewidth": 0,
              "ticks": ""
             }
            },
            "type": "scattercarpet"
           }
          ],
          "scattergeo": [
           {
            "marker": {
             "colorbar": {
              "outlinewidth": 0,
              "ticks": ""
             }
            },
            "type": "scattergeo"
           }
          ],
          "scattergl": [
           {
            "marker": {
             "colorbar": {
              "outlinewidth": 0,
              "ticks": ""
             }
            },
            "type": "scattergl"
           }
          ],
          "scattermapbox": [
           {
            "marker": {
             "colorbar": {
              "outlinewidth": 0,
              "ticks": ""
             }
            },
            "type": "scattermapbox"
           }
          ],
          "scatterpolar": [
           {
            "marker": {
             "colorbar": {
              "outlinewidth": 0,
              "ticks": ""
             }
            },
            "type": "scatterpolar"
           }
          ],
          "scatterpolargl": [
           {
            "marker": {
             "colorbar": {
              "outlinewidth": 0,
              "ticks": ""
             }
            },
            "type": "scatterpolargl"
           }
          ],
          "scatterternary": [
           {
            "marker": {
             "colorbar": {
              "outlinewidth": 0,
              "ticks": ""
             }
            },
            "type": "scatterternary"
           }
          ],
          "surface": [
           {
            "colorbar": {
             "outlinewidth": 0,
             "ticks": ""
            },
            "colorscale": [
             [
              0,
              "#0d0887"
             ],
             [
              0.1111111111111111,
              "#46039f"
             ],
             [
              0.2222222222222222,
              "#7201a8"
             ],
             [
              0.3333333333333333,
              "#9c179e"
             ],
             [
              0.4444444444444444,
              "#bd3786"
             ],
             [
              0.5555555555555556,
              "#d8576b"
             ],
             [
              0.6666666666666666,
              "#ed7953"
             ],
             [
              0.7777777777777778,
              "#fb9f3a"
             ],
             [
              0.8888888888888888,
              "#fdca26"
             ],
             [
              1,
              "#f0f921"
             ]
            ],
            "type": "surface"
           }
          ],
          "table": [
           {
            "cells": {
             "fill": {
              "color": "#EBF0F8"
             },
             "line": {
              "color": "white"
             }
            },
            "header": {
             "fill": {
              "color": "#C8D4E3"
             },
             "line": {
              "color": "white"
             }
            },
            "type": "table"
           }
          ]
         },
         "layout": {
          "annotationdefaults": {
           "arrowcolor": "#2a3f5f",
           "arrowhead": 0,
           "arrowwidth": 1
          },
          "autotypenumbers": "strict",
          "coloraxis": {
           "colorbar": {
            "outlinewidth": 0,
            "ticks": ""
           }
          },
          "colorscale": {
           "diverging": [
            [
             0,
             "#8e0152"
            ],
            [
             0.1,
             "#c51b7d"
            ],
            [
             0.2,
             "#de77ae"
            ],
            [
             0.3,
             "#f1b6da"
            ],
            [
             0.4,
             "#fde0ef"
            ],
            [
             0.5,
             "#f7f7f7"
            ],
            [
             0.6,
             "#e6f5d0"
            ],
            [
             0.7,
             "#b8e186"
            ],
            [
             0.8,
             "#7fbc41"
            ],
            [
             0.9,
             "#4d9221"
            ],
            [
             1,
             "#276419"
            ]
           ],
           "sequential": [
            [
             0,
             "#0d0887"
            ],
            [
             0.1111111111111111,
             "#46039f"
            ],
            [
             0.2222222222222222,
             "#7201a8"
            ],
            [
             0.3333333333333333,
             "#9c179e"
            ],
            [
             0.4444444444444444,
             "#bd3786"
            ],
            [
             0.5555555555555556,
             "#d8576b"
            ],
            [
             0.6666666666666666,
             "#ed7953"
            ],
            [
             0.7777777777777778,
             "#fb9f3a"
            ],
            [
             0.8888888888888888,
             "#fdca26"
            ],
            [
             1,
             "#f0f921"
            ]
           ],
           "sequentialminus": [
            [
             0,
             "#0d0887"
            ],
            [
             0.1111111111111111,
             "#46039f"
            ],
            [
             0.2222222222222222,
             "#7201a8"
            ],
            [
             0.3333333333333333,
             "#9c179e"
            ],
            [
             0.4444444444444444,
             "#bd3786"
            ],
            [
             0.5555555555555556,
             "#d8576b"
            ],
            [
             0.6666666666666666,
             "#ed7953"
            ],
            [
             0.7777777777777778,
             "#fb9f3a"
            ],
            [
             0.8888888888888888,
             "#fdca26"
            ],
            [
             1,
             "#f0f921"
            ]
           ]
          },
          "colorway": [
           "#636efa",
           "#EF553B",
           "#00cc96",
           "#ab63fa",
           "#FFA15A",
           "#19d3f3",
           "#FF6692",
           "#B6E880",
           "#FF97FF",
           "#FECB52"
          ],
          "font": {
           "color": "#2a3f5f"
          },
          "geo": {
           "bgcolor": "white",
           "lakecolor": "white",
           "landcolor": "#E5ECF6",
           "showlakes": true,
           "showland": true,
           "subunitcolor": "white"
          },
          "hoverlabel": {
           "align": "left"
          },
          "hovermode": "closest",
          "mapbox": {
           "style": "light"
          },
          "paper_bgcolor": "white",
          "plot_bgcolor": "#E5ECF6",
          "polar": {
           "angularaxis": {
            "gridcolor": "white",
            "linecolor": "white",
            "ticks": ""
           },
           "bgcolor": "#E5ECF6",
           "radialaxis": {
            "gridcolor": "white",
            "linecolor": "white",
            "ticks": ""
           }
          },
          "scene": {
           "xaxis": {
            "backgroundcolor": "#E5ECF6",
            "gridcolor": "white",
            "gridwidth": 2,
            "linecolor": "white",
            "showbackground": true,
            "ticks": "",
            "zerolinecolor": "white"
           },
           "yaxis": {
            "backgroundcolor": "#E5ECF6",
            "gridcolor": "white",
            "gridwidth": 2,
            "linecolor": "white",
            "showbackground": true,
            "ticks": "",
            "zerolinecolor": "white"
           },
           "zaxis": {
            "backgroundcolor": "#E5ECF6",
            "gridcolor": "white",
            "gridwidth": 2,
            "linecolor": "white",
            "showbackground": true,
            "ticks": "",
            "zerolinecolor": "white"
           }
          },
          "shapedefaults": {
           "line": {
            "color": "#2a3f5f"
           }
          },
          "ternary": {
           "aaxis": {
            "gridcolor": "white",
            "linecolor": "white",
            "ticks": ""
           },
           "baxis": {
            "gridcolor": "white",
            "linecolor": "white",
            "ticks": ""
           },
           "bgcolor": "#E5ECF6",
           "caxis": {
            "gridcolor": "white",
            "linecolor": "white",
            "ticks": ""
           }
          },
          "title": {
           "x": 0.05
          },
          "xaxis": {
           "automargin": true,
           "gridcolor": "white",
           "linecolor": "white",
           "ticks": "",
           "title": {
            "standoff": 15
           },
           "zerolinecolor": "white",
           "zerolinewidth": 2
          },
          "yaxis": {
           "automargin": true,
           "gridcolor": "white",
           "linecolor": "white",
           "ticks": "",
           "title": {
            "standoff": 15
           },
           "zerolinecolor": "white",
           "zerolinewidth": 2
          }
         }
        },
        "width": 600,
        "xaxis": {
         "range": [
          -1,
          6
         ],
         "showgrid": false,
         "zeroline": false
        },
        "yaxis": {
         "range": [
          -1,
          6
         ],
         "showgrid": false,
         "zeroline": false
        }
       }
      }
     },
     "metadata": {},
     "output_type": "display_data"
    }
   ],
   "source": [
    "import plotly.graph_objects as go\n",
    "import numpy as np\n",
    "\n",
    "# Define the vectors\n",
    "v1 = np.array([1, 2])\n",
    "v2 = np.array([3, 5])\n",
    "\n",
    "# Calculate angle between vectors (in radians)\n",
    "theta = np.arccos(np.dot(v1, v2) / (np.linalg.norm(v1) * np.linalg.norm(v2)))\n",
    "\n",
    "# Create figure\n",
    "fig = go.Figure()\n",
    "\n",
    "# Add vector (1,2) in red\n",
    "fig.add_trace(go.Scatter(x=[0, v1[0]], y=[0, v1[1]], \n",
    "                         mode='lines+markers', \n",
    "                         line=dict(color='red', width=2),\n",
    "                         name='Vector (1,2)'))\n",
    "\n",
    "# Add vector (3,5) in blue\n",
    "fig.add_trace(go.Scatter(x=[0, v2[0]], y=[0, v2[1]], \n",
    "                         mode='lines+markers', \n",
    "                         line=dict(color='blue', width=2),\n",
    "                         name='Vector (3,5)'))\n",
    "\n",
    "# Add angle annotation\n",
    "fig.add_annotation(\n",
    "    x=0.5, y=1.5,\n",
    "    text=r'$\\theta$',\n",
    "    showarrow=False,\n",
    "    font=dict(size=16)\n",
    ")\n",
    "\n",
    "# Set layout\n",
    "fig.update_layout(\n",
    "    xaxis=dict(range=[-1, 6], showgrid=False, zeroline=False),\n",
    "    yaxis=dict(range=[-1, 6], showgrid=False, zeroline=False),\n",
    "    width=600,\n",
    "    height=600,\n",
    "    showlegend=True\n",
    ")\n",
    "\n",
    "fig.show()"
   ]
  },
  {
   "cell_type": "markdown",
   "metadata": {},
   "source": []
  }
 ],
 "metadata": {
  "kernelspec": {
   "display_name": "pds",
   "language": "python",
   "name": "python3"
  },
  "language_info": {
   "codemirror_mode": {
    "name": "ipython",
    "version": 3
   },
   "file_extension": ".py",
   "mimetype": "text/x-python",
   "name": "python",
   "nbconvert_exporter": "python",
   "pygments_lexer": "ipython3",
   "version": "3.10.18"
  }
 },
 "nbformat": 4,
 "nbformat_minor": 4
}
